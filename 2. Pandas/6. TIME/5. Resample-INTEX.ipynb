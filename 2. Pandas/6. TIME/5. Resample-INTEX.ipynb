{
 "cells": [
  {
   "cell_type": "markdown",
   "metadata": {},
   "source": [
    "# "
   ]
  },
  {
   "cell_type": "markdown",
   "metadata": {},
   "source": [
    "# "
   ]
  },
  {
   "cell_type": "markdown",
   "metadata": {},
   "source": [
    "# "
   ]
  },
  {
   "cell_type": "markdown",
   "metadata": {},
   "source": [
    "<table>\n",
    "    <tr>\n",
    "    <th rowspan= 3> <font style=\"font-height:100px\"> RE </th>\n",
    "    <td> Create </td>\n",
    "    </tr>\n",
    "    <tr>\n",
    "    <td> Arrange </td>\n",
    "    </tr>\n",
    "    <tr>\n",
    "        <td> Group </td>\n",
    "    </tr>\n",
    "</table>"
   ]
  },
  {
   "cell_type": "markdown",
   "metadata": {},
   "source": [
    "<center> <i> ~ resample ~ </i> </center>"
   ]
  },
  {
   "cell_type": "markdown",
   "metadata": {},
   "source": [
    "# "
   ]
  },
  {
   "cell_type": "markdown",
   "metadata": {},
   "source": [
    "# "
   ]
  },
  {
   "cell_type": "markdown",
   "metadata": {},
   "source": [
    "<b><font size=6> I</font></b> know, this is not the perfect title for the AMAZING and MOST AWAITED topic of our pandas journey, but the idea is essential right?\n",
    "Still I find that the graphic above works somehow. <br>\n",
    "_\n",
    "<br>\n",
    "There is a lot to do in this book. Let's get started."
   ]
  },
  {
   "cell_type": "markdown",
   "metadata": {},
   "source": [
    "# "
   ]
  },
  {
   "cell_type": "markdown",
   "metadata": {},
   "source": [
    "<center> <font size=5><i>\"Resampling refers to the process of converting <br>a time series from one frequency to another\"</i> </center>"
   ]
  },
  {
   "cell_type": "markdown",
   "metadata": {},
   "source": [
    "# "
   ]
  },
  {
   "cell_type": "markdown",
   "metadata": {},
   "source": [
    "Aggregation of HIGH freq to LOW freq → \"***Downsampling***\"<br>\n",
    "*Amount of variables Decreases*"
   ]
  },
  {
   "cell_type": "markdown",
   "metadata": {},
   "source": [
    "Aggregation of LOW freq to HIGH freq → \"***Upsampling***\"<br>\n",
    "*Amount of variables Increases*"
   ]
  },
  {
   "cell_type": "markdown",
   "metadata": {},
   "source": [
    "Some times you just don't go high to low or low to high, but shift the time; I call it → \"***Sidesampling***\" <br>\n",
    "*Amount of variables stays same*"
   ]
  },
  {
   "cell_type": "markdown",
   "metadata": {},
   "source": [
    "# "
   ]
  },
  {
   "cell_type": "code",
   "execution_count": 1,
   "metadata": {},
   "outputs": [],
   "source": [
    "import pandas as pd\n",
    "import numpy as np"
   ]
  },
  {
   "cell_type": "markdown",
   "metadata": {},
   "source": [
    "# "
   ]
  },
  {
   "cell_type": "markdown",
   "metadata": {},
   "source": [
    "Going simple.ly"
   ]
  },
  {
   "cell_type": "markdown",
   "metadata": {},
   "source": [
    "# "
   ]
  },
  {
   "cell_type": "markdown",
   "metadata": {},
   "source": [
    "# DOWNSAMPLING"
   ]
  },
  {
   "cell_type": "markdown",
   "metadata": {},
   "source": [
    "#My reading hours per day data (random) "
   ]
  },
  {
   "cell_type": "code",
   "execution_count": 2,
   "metadata": {},
   "outputs": [
    {
     "data": {
      "text/plain": [
       "2021-01-01     8\n",
       "2021-01-02     9\n",
       "2021-01-03     1\n",
       "2021-01-04     2\n",
       "2021-01-05     2\n",
       "              ..\n",
       "2021-12-27     0\n",
       "2021-12-28     1\n",
       "2021-12-29     3\n",
       "2021-12-30     8\n",
       "2021-12-31    10\n",
       "Freq: D, Length: 365, dtype: int32"
      ]
     },
     "execution_count": 2,
     "metadata": {},
     "output_type": "execute_result"
    }
   ],
   "source": [
    "index = pd.date_range('2021', '31-12-2021')\n",
    "ser = pd.Series(np.random.randint(0, 11, len(index)), index= index)\n",
    "ser"
   ]
  },
  {
   "cell_type": "code",
   "execution_count": 3,
   "metadata": {},
   "outputs": [
    {
     "data": {
      "text/plain": [
       "2021-01-31    4.967742\n",
       "2021-02-28    4.857143\n",
       "2021-03-31    4.161290\n",
       "2021-04-30    4.766667\n",
       "2021-05-31    5.419355\n",
       "2021-06-30    5.233333\n",
       "2021-07-31    4.677419\n",
       "2021-08-31    5.064516\n",
       "2021-09-30    4.333333\n",
       "2021-10-31    4.870968\n",
       "2021-11-30    4.766667\n",
       "2021-12-31    4.387097\n",
       "Freq: M, dtype: float64"
      ]
     },
     "execution_count": 3,
     "metadata": {},
     "output_type": "execute_result"
    }
   ],
   "source": [
    "# Now I want to find the average reading hours per month\n",
    "ser.resample('M').mean()"
   ]
  },
  {
   "cell_type": "markdown",
   "metadata": {},
   "source": [
    "Cool!<br>\n",
    "But if you see, it seems like on the last date of each month we have the data - to make it look like it is for WHOLE month, we can use `periods`!\n",
    "\n",
    "Just need to tweak one parameter."
   ]
  },
  {
   "cell_type": "code",
   "execution_count": 4,
   "metadata": {},
   "outputs": [
    {
     "data": {
      "text/plain": [
       "2021-01    4.967742\n",
       "2021-02    4.857143\n",
       "2021-03    4.161290\n",
       "2021-04    4.766667\n",
       "2021-05    5.419355\n",
       "2021-06    5.233333\n",
       "2021-07    4.677419\n",
       "2021-08    5.064516\n",
       "2021-09    4.333333\n",
       "2021-10    4.870968\n",
       "2021-11    4.766667\n",
       "2021-12    4.387097\n",
       "Freq: M, dtype: float64"
      ]
     },
     "execution_count": 4,
     "metadata": {},
     "output_type": "execute_result"
    }
   ],
   "source": [
    "ser.resample('M', kind= 'period').mean()"
   ]
  },
  {
   "cell_type": "markdown",
   "metadata": {},
   "source": [
    "So easy and intuative!"
   ]
  },
  {
   "cell_type": "markdown",
   "metadata": {},
   "source": [
    "# "
   ]
  },
  {
   "cell_type": "code",
   "execution_count": 5,
   "metadata": {},
   "outputs": [
    {
     "data": {
      "text/plain": [
       "Friday       5.547170\n",
       "Monday       4.634615\n",
       "Saturday     4.653846\n",
       "Sunday       5.173077\n",
       "Thursday     3.788462\n",
       "Tuesday      4.596154\n",
       "Wednesday    5.134615\n",
       "dtype: float64"
      ]
     },
     "execution_count": 5,
     "metadata": {},
     "output_type": "execute_result"
    }
   ],
   "source": [
    "# Now, I want to check the MEAN of EACH DAY across whole YEAR.\n",
    "ser.groupby(lambda x: x.day_name()).mean()"
   ]
  },
  {
   "cell_type": "markdown",
   "metadata": {},
   "source": [
    "Note, it is **not done** with `resample`."
   ]
  },
  {
   "cell_type": "markdown",
   "metadata": {},
   "source": [
    "*I learn more on mondays, Quite realistic though!*"
   ]
  },
  {
   "cell_type": "markdown",
   "metadata": {},
   "source": [
    "# "
   ]
  },
  {
   "cell_type": "code",
   "execution_count": 6,
   "metadata": {},
   "outputs": [
    {
     "data": {
      "text/plain": [
       "2021Q1    4.655556\n",
       "2021Q2    5.142857\n",
       "2021Q3    4.695652\n",
       "2021Q4    4.673913\n",
       "Freq: Q-DEC, dtype: float64"
      ]
     },
     "execution_count": 6,
     "metadata": {},
     "output_type": "execute_result"
    }
   ],
   "source": [
    "# How much I learn quarterly?\n",
    "ser.resample('Q', kind= 'period').mean()"
   ]
  },
  {
   "cell_type": "markdown",
   "metadata": {},
   "source": [
    "Aha! Second Quarter is better."
   ]
  },
  {
   "cell_type": "markdown",
   "metadata": {},
   "source": [
    "# "
   ]
  },
  {
   "cell_type": "markdown",
   "metadata": {},
   "source": [
    "## → Taking into an account the TIME "
   ]
  },
  {
   "cell_type": "markdown",
   "metadata": {},
   "source": [
    "Create the data first."
   ]
  },
  {
   "cell_type": "code",
   "execution_count": 21,
   "metadata": {},
   "outputs": [],
   "source": [
    "idx = pd.date_range('2021', '31/12/2021', freq= \"1H\")"
   ]
  },
  {
   "cell_type": "code",
   "execution_count": 73,
   "metadata": {},
   "outputs": [],
   "source": [
    "index = idx[(idx.hour < 23) & (idx.hour > 8)]"
   ]
  },
  {
   "cell_type": "code",
   "execution_count": 76,
   "metadata": {},
   "outputs": [
    {
     "data": {
      "text/plain": [
       "2021-01-01 09:00:00    11\n",
       "2021-01-01 10:00:00    15\n",
       "2021-01-01 11:00:00     8\n",
       "2021-01-01 12:00:00    31\n",
       "2021-01-01 13:00:00    21\n",
       "                       ..\n",
       "2021-12-30 18:00:00    23\n",
       "2021-12-30 19:00:00    44\n",
       "2021-12-30 20:00:00    55\n",
       "2021-12-30 21:00:00    13\n",
       "2021-12-30 22:00:00    32\n",
       "Length: 5096, dtype: int32"
      ]
     },
     "execution_count": 76,
     "metadata": {},
     "output_type": "execute_result"
    }
   ],
   "source": [
    "ser = pd.Series(np.random.choice(np.arange(0, 60), len(index)), index= index)\n",
    "ser"
   ]
  },
  {
   "cell_type": "markdown",
   "metadata": {},
   "source": [
    "Now see my data is ready. It shows the hourly data - of reading minutes. (I have cut out the 11PM to 6AM time as there I find my self sleeping)"
   ]
  },
  {
   "cell_type": "markdown",
   "metadata": {},
   "source": [
    "# "
   ]
  },
  {
   "cell_type": "code",
   "execution_count": 83,
   "metadata": {},
   "outputs": [
    {
     "data": {
      "text/plain": [
       "2021-01-01    5.666667\n",
       "2021-01-02    6.300000\n",
       "2021-01-03    8.433333\n",
       "2021-01-04    6.850000\n",
       "2021-01-05    6.633333\n",
       "                ...   \n",
       "2021-12-26    6.683333\n",
       "2021-12-27    6.200000\n",
       "2021-12-28    7.550000\n",
       "2021-12-29    7.566667\n",
       "2021-12-30    6.833333\n",
       "Freq: D, Length: 364, dtype: float64"
      ]
     },
     "execution_count": 83,
     "metadata": {},
     "output_type": "execute_result"
    }
   ],
   "source": [
    "# Now the same, let's find the SUM of EACH day reading.\n",
    "per_day = ser.resample('D').sum() / 60\n",
    "per_day"
   ]
  },
  {
   "cell_type": "markdown",
   "metadata": {},
   "source": [
    "Cool."
   ]
  },
  {
   "cell_type": "code",
   "execution_count": 85,
   "metadata": {},
   "outputs": [
    {
     "data": {
      "text/plain": [
       "(3.95, 9.833333333333334)"
      ]
     },
     "execution_count": 85,
     "metadata": {},
     "output_type": "execute_result"
    }
   ],
   "source": [
    "(per_day.min(), per_day.max())"
   ]
  },
  {
   "cell_type": "markdown",
   "metadata": {},
   "source": [
    "# "
   ]
  },
  {
   "cell_type": "code",
   "execution_count": 117,
   "metadata": {},
   "outputs": [
    {
     "data": {
      "text/plain": [
       "Friday       6.771795\n",
       "Monday       6.777244\n",
       "Saturday     6.779808\n",
       "Sunday       7.055128\n",
       "Thursday     6.973718\n",
       "Tuesday      7.132372\n",
       "Wednesday    6.651923\n",
       "dtype: float64"
      ]
     },
     "execution_count": 117,
     "metadata": {},
     "output_type": "execute_result"
    }
   ],
   "source": [
    "# What is my reading pattern during a week (same as before)\n",
    "ser.resample('D').sum().groupby(lambda x : x.day_name()).mean() / 60"
   ]
  },
  {
   "cell_type": "markdown",
   "metadata": {},
   "source": [
    "# "
   ]
  },
  {
   "cell_type": "code",
   "execution_count": 129,
   "metadata": {},
   "outputs": [
    {
     "data": {
      "text/plain": [
       "9     29.162088\n",
       "10    29.376374\n",
       "11    30.843407\n",
       "12    29.082418\n",
       "13    29.401099\n",
       "14    29.991758\n",
       "15    29.299451\n",
       "16    31.486264\n",
       "17    29.282967\n",
       "18    29.626374\n",
       "19    28.255495\n",
       "20    29.129121\n",
       "21    29.052198\n",
       "22    28.656593\n",
       "dtype: float64"
      ]
     },
     "execution_count": 129,
     "metadata": {},
     "output_type": "execute_result"
    }
   ],
   "source": [
    "# What is my AVERAGE reading hour per HOUR\n",
    "ser.groupby(lambda x: x.hour).mean()"
   ]
  },
  {
   "cell_type": "markdown",
   "metadata": {},
   "source": [
    "It's like I read half an hour per hour!"
   ]
  },
  {
   "cell_type": "markdown",
   "metadata": {},
   "source": [
    "# "
   ]
  },
  {
   "cell_type": "code",
   "execution_count": 146,
   "metadata": {},
   "outputs": [
    {
     "data": {
      "text/plain": [
       "(Friday, 9)        26.692308\n",
       "(Friday, 10)       30.846154\n",
       "(Friday, 11)       32.134615\n",
       "(Friday, 12)       27.653846\n",
       "(Friday, 13)       24.134615\n",
       "                     ...    \n",
       "(Wednesday, 18)    29.000000\n",
       "(Wednesday, 19)    25.692308\n",
       "(Wednesday, 20)    27.250000\n",
       "(Wednesday, 21)    28.942308\n",
       "(Wednesday, 22)    27.134615\n",
       "Length: 98, dtype: float64"
      ]
     },
     "execution_count": 146,
     "metadata": {},
     "output_type": "execute_result"
    }
   ],
   "source": [
    "# What is my AVERAGE reading hour per HOUR per DAY\n",
    "per_day_per_hour = ser.groupby(lambda x: (x.day_name(), x.hour)).mean()\n",
    "per_day_per_hour"
   ]
  },
  {
   "cell_type": "code",
   "execution_count": 147,
   "metadata": {},
   "outputs": [],
   "source": [
    "per_day_per_hour.index= pd.MultiIndex.from_tuples(per_day_per_hour.index)"
   ]
  },
  {
   "cell_type": "code",
   "execution_count": 159,
   "metadata": {},
   "outputs": [],
   "source": [
    "import matplotlib.pyplot as plt"
   ]
  },
  {
   "cell_type": "code",
   "execution_count": 160,
   "metadata": {},
   "outputs": [
    {
     "data": {
      "text/plain": [
       "<matplotlib.legend.Legend at 0x13ce15aed90>"
      ]
     },
     "execution_count": 160,
     "metadata": {},
     "output_type": "execute_result"
    },
    {
     "data": {
      "image/png": "[encoded data removed]",
      "text/plain": [
       "<Figure size 432x288 with 1 Axes>"
      ]
     },
     "metadata": {
      "needs_background": "light"
     },
     "output_type": "display_data"
    }
   ],
   "source": [
    "per_day_per_hour.unstack(1).plot(kind= 'bar', stacked= True)\n",
    "plt.legend(bbox_to_anchor=(1.01, 1),\n",
    "           borderaxespad=0)"
   ]
  },
  {
   "cell_type": "markdown",
   "metadata": {},
   "source": [
    "Not so informative, but still it is a graph ... right?"
   ]
  },
  {
   "cell_type": "markdown",
   "metadata": {},
   "source": [
    "# "
   ]
  },
  {
   "cell_type": "code",
   "execution_count": 167,
   "metadata": {},
   "outputs": [
    {
     "data": {
      "text/plain": [
       "2021-04-29    9.833333\n",
       "2021-05-09    9.766667\n",
       "2021-02-01    9.450000\n",
       "2021-05-22    9.433333\n",
       "2021-02-24    9.233333\n",
       "2021-11-07    9.166667\n",
       "2021-12-09    9.166667\n",
       "2021-01-15    9.150000\n",
       "2021-09-04    9.033333\n",
       "2021-08-03    8.750000\n",
       "dtype: float64"
      ]
     },
     "execution_count": 167,
     "metadata": {},
     "output_type": "execute_result"
    }
   ],
   "source": [
    "# Top 10 days when I have read most of the time than the rest - plot on the graph\n",
    "top10 = ser.resample('D').sum().sort_values(ascending= False)[:10]\n",
    "top10 / 60"
   ]
  },
  {
   "cell_type": "code",
   "execution_count": 194,
   "metadata": {},
   "outputs": [
    {
     "data": {
      "image/png": "[encoded data removed]",
      "text/plain": [
       "<Figure size 1440x720 with 1 Axes>"
      ]
     },
     "metadata": {
      "needs_background": "light"
     },
     "output_type": "display_data"
    }
   ],
   "source": [
    "plt.figure(figsize= (20, 10))\n",
    "plt.plot(per_day)\n",
    "for date, value in zip(top10.index, top10.values):\n",
    "    plt.annotate(str(date.date()), xy= (date, value / 60),\n",
    "                xytext= (date, (value / 60) + 0.1),\n",
    "                arrowprops= dict(arrowstyle= \"->\"))\n",
    "    \n",
    "plt.title(\"Top 10 days with Highest Reading Time\")\n",
    "plt.xlabel('← Date →')\n",
    "plt.ylabel(\"← Hours →\");"
   ]
  },
  {
   "cell_type": "markdown",
   "metadata": {},
   "source": [
    "## "
   ]
  },
  {
   "cell_type": "markdown",
   "metadata": {},
   "source": [
    "# "
   ]
  },
  {
   "cell_type": "markdown",
   "metadata": {},
   "source": [
    "## → A new side - *closed* side "
   ]
  },
  {
   "cell_type": "markdown",
   "metadata": {},
   "source": [
    "*I guess now, it is ehough to explore my reading patterns. Let's look at other sides of resample*"
   ]
  },
  {
   "cell_type": "code",
   "execution_count": 2,
   "metadata": {},
   "outputs": [
    {
     "data": {
      "text/plain": [
       "2021-04-25 00:00:00    59\n",
       "2021-04-25 00:01:00    89\n",
       "2021-04-25 00:02:00    60\n",
       "2021-04-25 00:03:00    80\n",
       "2021-04-25 00:04:00    11\n",
       "2021-04-25 00:05:00    86\n",
       "2021-04-25 00:06:00    84\n",
       "2021-04-25 00:07:00    85\n",
       "2021-04-25 00:08:00    70\n",
       "2021-04-25 00:09:00    54\n",
       "Freq: T, dtype: int32"
      ]
     },
     "execution_count": 2,
     "metadata": {},
     "output_type": "execute_result"
    }
   ],
   "source": [
    "# For that we need the data to be seperated from 1 minute interval\n",
    "index = pd.date_range('25/4/2021', periods= 60, freq= 'min')\n",
    "ser = pd.Series(np.random.randint(0, 100, 60), index= index)\n",
    "ser[:10]"
   ]
  },
  {
   "cell_type": "markdown",
   "metadata": {},
   "source": [
    "#### Now we will take the intervals in minutes (chunk of minutes) and get the mean"
   ]
  },
  {
   "cell_type": "code",
   "execution_count": 3,
   "metadata": {},
   "outputs": [
    {
     "data": {
      "text/plain": [
       "2021-04-25 00:00:00    67.8\n",
       "2021-04-25 00:10:00    55.0\n",
       "2021-04-25 00:20:00    35.5\n",
       "2021-04-25 00:30:00    38.7\n",
       "2021-04-25 00:40:00    37.6\n",
       "2021-04-25 00:50:00    55.8\n",
       "Freq: 10T, dtype: float64"
      ]
     },
     "execution_count": 3,
     "metadata": {},
     "output_type": "execute_result"
    }
   ],
   "source": [
    "# 10 min chunk\n",
    "ser.resample('10min').mean()"
   ]
  },
  {
   "cell_type": "code",
   "execution_count": 4,
   "metadata": {},
   "outputs": [
    {
     "name": "stdout",
     "output_type": "stream",
     "text": [
      "67.8\n",
      "55.0\n",
      "35.5\n",
      "38.7\n",
      "37.6\n",
      "55.8\n"
     ]
    }
   ],
   "source": [
    "# cross checking\n",
    "for point in range(0, 60, 10):\n",
    "    print(ser[point: point+10].mean())"
   ]
  },
  {
   "cell_type": "markdown",
   "metadata": {},
   "source": [
    "**Hai na same?**"
   ]
  },
  {
   "cell_type": "markdown",
   "metadata": {},
   "source": [
    "**#WONDERING?** Why the first in ser showing 00:00 while the chunk is of 10 mins? <br>\n",
    "ANSWER: It is because be default *resample* puts the LEFT LABEL. To change, we can do it for right label."
   ]
  },
  {
   "cell_type": "markdown",
   "metadata": {},
   "source": [
    "## → `label= 'left' or 'right'` "
   ]
  },
  {
   "cell_type": "code",
   "execution_count": 5,
   "metadata": {},
   "outputs": [
    {
     "data": {
      "text/plain": [
       "2021-04-25 00:10:00    67.8\n",
       "2021-04-25 00:20:00    55.0\n",
       "2021-04-25 00:30:00    35.5\n",
       "2021-04-25 00:40:00    38.7\n",
       "2021-04-25 00:50:00    37.6\n",
       "2021-04-25 01:00:00    55.8\n",
       "Freq: 10T, dtype: float64"
      ]
     },
     "execution_count": 5,
     "metadata": {},
     "output_type": "execute_result"
    }
   ],
   "source": [
    "# 10 min chunk\n",
    "ser.resample('10min', label= 'right').mean()"
   ]
  },
  {
   "cell_type": "markdown",
   "metadata": {},
   "source": [
    "__Noting in the calculation will be changed__, but the label displayed in a different way. <br>\n",
    "*NOTE:* When the kind is 'period' - label = 'left' / 'right' won't make any difference. It will be the same in both cases."
   ]
  },
  {
   "cell_type": "markdown",
   "metadata": {},
   "source": [
    "# "
   ]
  },
  {
   "cell_type": "markdown",
   "metadata": {},
   "source": [
    "## Main part - `closed side` "
   ]
  },
  {
   "cell_type": "markdown",
   "metadata": {},
   "source": [
    "*This is the main section's title - isn't it?*\n",
    "\n",
    "> This is where calculation starts making difference."
   ]
  },
  {
   "cell_type": "code",
   "execution_count": 6,
   "metadata": {},
   "outputs": [
    {
     "data": {
      "text/plain": [
       "2021-04-25 00:00:00    67.8\n",
       "2021-04-25 00:10:00    55.0\n",
       "2021-04-25 00:20:00    35.5\n",
       "2021-04-25 00:30:00    38.7\n",
       "2021-04-25 00:40:00    37.6\n",
       "2021-04-25 00:50:00    55.8\n",
       "Freq: 10T, dtype: float64"
      ]
     },
     "execution_count": 6,
     "metadata": {},
     "output_type": "execute_result"
    }
   ],
   "source": [
    "ser.resample('10min', closed= 'left').mean()"
   ]
  },
  {
   "cell_type": "markdown",
   "metadata": {},
   "source": [
    "**COMPARE** ↑ this and ↓ this"
   ]
  },
  {
   "cell_type": "code",
   "execution_count": 7,
   "metadata": {},
   "outputs": [
    {
     "data": {
      "text/plain": [
       "2021-04-24 23:50:00    59.000000\n",
       "2021-04-25 00:00:00    65.500000\n",
       "2021-04-25 00:10:00    54.600000\n",
       "2021-04-25 00:20:00    32.800000\n",
       "2021-04-25 00:30:00    44.900000\n",
       "2021-04-25 00:40:00    40.600000\n",
       "2021-04-25 00:50:00    51.222222\n",
       "Freq: 10T, dtype: float64"
      ]
     },
     "execution_count": 7,
     "metadata": {},
     "output_type": "execute_result"
    }
   ],
   "source": [
    "ser.resample('10min', closed= 'right').mean()"
   ]
  },
  {
   "cell_type": "markdown",
   "metadata": {},
   "source": [
    "See? Both are calculated for the same frequency but both have different results."
   ]
  },
  {
   "cell_type": "markdown",
   "metadata": {},
   "source": [
    "Why?"
   ]
  },
  {
   "cell_type": "markdown",
   "metadata": {},
   "source": [
    "LET'S INSPECT"
   ]
  },
  {
   "cell_type": "code",
   "execution_count": 8,
   "metadata": {},
   "outputs": [
    {
     "data": {
      "text/plain": [
       "[(Timestamp('2021-04-25 00:00:00', freq='10T'),\n",
       "  2021-04-25 00:00:00    59\n",
       "  2021-04-25 00:01:00    89\n",
       "  2021-04-25 00:02:00    60\n",
       "  2021-04-25 00:03:00    80\n",
       "  2021-04-25 00:04:00    11\n",
       "  2021-04-25 00:05:00    86\n",
       "  2021-04-25 00:06:00    84\n",
       "  2021-04-25 00:07:00    85\n",
       "  2021-04-25 00:08:00    70\n",
       "  2021-04-25 00:09:00    54\n",
       "  Freq: T, dtype: int32),\n",
       " (Timestamp('2021-04-25 00:10:00', freq='10T'),\n",
       "  2021-04-25 00:10:00    36\n",
       "  2021-04-25 00:11:00    55\n",
       "  2021-04-25 00:12:00    70\n",
       "  2021-04-25 00:13:00    47\n",
       "  2021-04-25 00:14:00    15\n",
       "  2021-04-25 00:15:00    36\n",
       "  2021-04-25 00:16:00    71\n",
       "  2021-04-25 00:17:00    73\n",
       "  2021-04-25 00:18:00    56\n",
       "  2021-04-25 00:19:00    91\n",
       "  Freq: T, dtype: int32),\n",
       " (Timestamp('2021-04-25 00:20:00', freq='10T'),\n",
       "  2021-04-25 00:20:00    32\n",
       "  2021-04-25 00:21:00    23\n",
       "  2021-04-25 00:22:00    35\n",
       "  2021-04-25 00:23:00    70\n",
       "  2021-04-25 00:24:00    25\n",
       "  2021-04-25 00:25:00     8\n",
       "  2021-04-25 00:26:00    25\n",
       "  2021-04-25 00:27:00    24\n",
       "  2021-04-25 00:28:00    58\n",
       "  2021-04-25 00:29:00    55\n",
       "  Freq: T, dtype: int32),\n",
       " (Timestamp('2021-04-25 00:30:00', freq='10T'),\n",
       "  2021-04-25 00:30:00     5\n",
       "  2021-04-25 00:31:00    82\n",
       "  2021-04-25 00:32:00    51\n",
       "  2021-04-25 00:33:00    74\n",
       "  2021-04-25 00:34:00     0\n",
       "  2021-04-25 00:35:00    60\n",
       "  2021-04-25 00:36:00    48\n",
       "  2021-04-25 00:37:00     3\n",
       "  2021-04-25 00:38:00    52\n",
       "  2021-04-25 00:39:00    12\n",
       "  Freq: T, dtype: int32),\n",
       " (Timestamp('2021-04-25 00:40:00', freq='10T'),\n",
       "  2021-04-25 00:40:00    67\n",
       "  2021-04-25 00:41:00    18\n",
       "  2021-04-25 00:42:00    19\n",
       "  2021-04-25 00:43:00    33\n",
       "  2021-04-25 00:44:00    30\n",
       "  2021-04-25 00:45:00    16\n",
       "  2021-04-25 00:46:00    75\n",
       "  2021-04-25 00:47:00    36\n",
       "  2021-04-25 00:48:00    37\n",
       "  2021-04-25 00:49:00    45\n",
       "  Freq: T, dtype: int32),\n",
       " (Timestamp('2021-04-25 00:50:00', freq='10T'),\n",
       "  2021-04-25 00:50:00    97\n",
       "  2021-04-25 00:51:00    41\n",
       "  2021-04-25 00:52:00    73\n",
       "  2021-04-25 00:53:00    97\n",
       "  2021-04-25 00:54:00    47\n",
       "  2021-04-25 00:55:00    10\n",
       "  2021-04-25 00:56:00    22\n",
       "  2021-04-25 00:57:00    92\n",
       "  2021-04-25 00:58:00    66\n",
       "  2021-04-25 00:59:00    13\n",
       "  Freq: T, dtype: int32)]"
      ]
     },
     "execution_count": 8,
     "metadata": {},
     "output_type": "execute_result"
    }
   ],
   "source": [
    "# In the closed = 'LEFT' (which is DEFAULT), we see\n",
    "list(ser.resample('10min', closed= 'left'))"
   ]
  },
  {
   "cell_type": "code",
   "execution_count": 233,
   "metadata": {},
   "outputs": [
    {
     "data": {
      "text/plain": [
       "[(Timestamp('2021-04-24 23:50:00', freq='10T'),\n",
       "  2021-04-25    37\n",
       "  Freq: T, dtype: int32),\n",
       " (Timestamp('2021-04-25 00:00:00', freq='10T'),\n",
       "  2021-04-25 00:01:00    58\n",
       "  2021-04-25 00:02:00    88\n",
       "  2021-04-25 00:03:00    58\n",
       "  2021-04-25 00:04:00    56\n",
       "  2021-04-25 00:05:00    87\n",
       "  2021-04-25 00:06:00    39\n",
       "  2021-04-25 00:07:00    51\n",
       "  2021-04-25 00:08:00    65\n",
       "  2021-04-25 00:09:00    84\n",
       "  2021-04-25 00:10:00    88\n",
       "  Freq: T, dtype: int32),\n",
       " (Timestamp('2021-04-25 00:10:00', freq='10T'),\n",
       "  2021-04-25 00:11:00    65\n",
       "  2021-04-25 00:12:00    91\n",
       "  2021-04-25 00:13:00    83\n",
       "  2021-04-25 00:14:00    18\n",
       "  2021-04-25 00:15:00    65\n",
       "  2021-04-25 00:16:00    37\n",
       "  2021-04-25 00:17:00     4\n",
       "  2021-04-25 00:18:00    70\n",
       "  2021-04-25 00:19:00    35\n",
       "  2021-04-25 00:20:00    15\n",
       "  Freq: T, dtype: int32),\n",
       " (Timestamp('2021-04-25 00:20:00', freq='10T'),\n",
       "  2021-04-25 00:21:00    33\n",
       "  2021-04-25 00:22:00    57\n",
       "  2021-04-25 00:23:00    20\n",
       "  2021-04-25 00:24:00    48\n",
       "  2021-04-25 00:25:00    55\n",
       "  2021-04-25 00:26:00    28\n",
       "  2021-04-25 00:27:00    45\n",
       "  2021-04-25 00:28:00    42\n",
       "  2021-04-25 00:29:00    28\n",
       "  2021-04-25 00:30:00    68\n",
       "  Freq: T, dtype: int32),\n",
       " (Timestamp('2021-04-25 00:30:00', freq='10T'),\n",
       "  2021-04-25 00:31:00    11\n",
       "  2021-04-25 00:32:00    86\n",
       "  2021-04-25 00:33:00    92\n",
       "  2021-04-25 00:34:00     3\n",
       "  2021-04-25 00:35:00    69\n",
       "  2021-04-25 00:36:00     8\n",
       "  2021-04-25 00:37:00    91\n",
       "  2021-04-25 00:38:00     4\n",
       "  2021-04-25 00:39:00    74\n",
       "  2021-04-25 00:40:00    23\n",
       "  Freq: T, dtype: int32),\n",
       " (Timestamp('2021-04-25 00:40:00', freq='10T'),\n",
       "  2021-04-25 00:41:00    53\n",
       "  2021-04-25 00:42:00    54\n",
       "  2021-04-25 00:43:00    22\n",
       "  2021-04-25 00:44:00    44\n",
       "  2021-04-25 00:45:00    21\n",
       "  2021-04-25 00:46:00    81\n",
       "  2021-04-25 00:47:00    98\n",
       "  2021-04-25 00:48:00    53\n",
       "  2021-04-25 00:49:00    52\n",
       "  2021-04-25 00:50:00    67\n",
       "  Freq: T, dtype: int32),\n",
       " (Timestamp('2021-04-25 00:50:00', freq='10T'),\n",
       "  2021-04-25 00:51:00    31\n",
       "  2021-04-25 00:52:00    14\n",
       "  2021-04-25 00:53:00    81\n",
       "  2021-04-25 00:54:00    38\n",
       "  2021-04-25 00:55:00    29\n",
       "  2021-04-25 00:56:00     6\n",
       "  2021-04-25 00:57:00     0\n",
       "  2021-04-25 00:58:00    89\n",
       "  2021-04-25 00:59:00    11\n",
       "  Freq: T, dtype: int32)]"
      ]
     },
     "execution_count": 233,
     "metadata": {},
     "output_type": "execute_result"
    }
   ],
   "source": [
    "# In the closed = 'RIGHT', we see\n",
    "list(ser.resample('10min', closed= 'right'))"
   ]
  },
  {
   "cell_type": "markdown",
   "metadata": {},
   "source": [
    "# "
   ]
  },
  {
   "cell_type": "markdown",
   "metadata": {},
   "source": [
    "Difference right?"
   ]
  },
  {
   "cell_type": "markdown",
   "metadata": {},
   "source": [
    "**In LEFT closed**: `0 - 9`, `10 - 19`, `20 - 29` ... <br>\n",
    "**In RIGHT closed**: `1 - 10`, `11 - 20`, `21 - 30` ..."
   ]
  },
  {
   "cell_type": "markdown",
   "metadata": {},
   "source": [
    "And in RIGHT closed case, we see that it has **generated new date** which is non - existant in the data - 24/4 to include the first entry."
   ]
  },
  {
   "cell_type": "markdown",
   "metadata": {},
   "source": [
    "___"
   ]
  },
  {
   "cell_type": "markdown",
   "metadata": {},
   "source": [
    "### Still didn't understand why?\n",
    "I know you would. Let's do a little more research."
   ]
  },
  {
   "cell_type": "code",
   "execution_count": 9,
   "metadata": {},
   "outputs": [
    {
     "data": {
      "text/plain": [
       "2021-04-25 00:00:00    2\n",
       "2021-04-25 00:00:01    1\n",
       "2021-04-25 00:00:02    4\n",
       "2021-04-25 00:00:03    7\n",
       "2021-04-25 00:00:04    4\n",
       "                      ..\n",
       "2021-04-25 00:09:55    7\n",
       "2021-04-25 00:09:56    6\n",
       "2021-04-25 00:09:57    7\n",
       "2021-04-25 00:09:58    7\n",
       "2021-04-25 00:09:59    8\n",
       "Freq: S, Length: 600, dtype: int32"
      ]
     },
     "execution_count": 9,
     "metadata": {},
     "output_type": "execute_result"
    }
   ],
   "source": [
    "# The data is of 10 minutes - made with seconds\n",
    "index = pd.date_range('25/4/2021', periods= 600, freq= 's')\n",
    "ser = pd.Series(np.random.randint(0, 10, len(index)), index= index)\n",
    "ser"
   ]
  },
  {
   "cell_type": "markdown",
   "metadata": {},
   "source": [
    "# "
   ]
  },
  {
   "cell_type": "code",
   "execution_count": 10,
   "metadata": {},
   "outputs": [
    {
     "data": {
      "text/plain": [
       "2021-04-25 00:00:00    4.200000\n",
       "2021-04-25 00:02:00    4.791667\n",
       "2021-04-25 00:04:00    4.483333\n",
       "2021-04-25 00:06:00    4.391667\n",
       "2021-04-25 00:08:00    4.675000\n",
       "Freq: 2T, dtype: float64"
      ]
     },
     "execution_count": 10,
     "metadata": {},
     "output_type": "execute_result"
    }
   ],
   "source": [
    "# Doing the 2 mins gap\n",
    "ser.resample('2min').mean()"
   ]
  },
  {
   "cell_type": "code",
   "execution_count": 11,
   "metadata": {},
   "outputs": [
    {
     "data": {
      "text/plain": [
       "2021-04-24 23:58:00    2.000000\n",
       "2021-04-25 00:00:00    4.200000\n",
       "2021-04-25 00:02:00    4.791667\n",
       "2021-04-25 00:04:00    4.483333\n",
       "2021-04-25 00:06:00    4.450000\n",
       "2021-04-25 00:08:00    4.638655\n",
       "Freq: 2T, dtype: float64"
      ]
     },
     "execution_count": 11,
     "metadata": {},
     "output_type": "execute_result"
    }
   ],
   "source": [
    "# Doing the 2 mins gap\n",
    "ser.resample('2min', closed= 'right').mean()"
   ]
  },
  {
   "cell_type": "markdown",
   "metadata": {},
   "source": [
    "# "
   ]
  },
  {
   "cell_type": "code",
   "execution_count": 12,
   "metadata": {},
   "outputs": [
    {
     "data": {
      "text/plain": [
       "[(Timestamp('2021-04-25 00:00:00', freq='2T'),\n",
       "  2021-04-25 00:00:00    2\n",
       "  2021-04-25 00:00:01    1\n",
       "  2021-04-25 00:00:02    4\n",
       "  2021-04-25 00:00:03    7\n",
       "  2021-04-25 00:00:04    4\n",
       "                        ..\n",
       "  2021-04-25 00:01:55    4\n",
       "  2021-04-25 00:01:56    9\n",
       "  2021-04-25 00:01:57    0\n",
       "  2021-04-25 00:01:58    9\n",
       "  2021-04-25 00:01:59    8\n",
       "  Freq: S, Length: 120, dtype: int32),\n",
       " (Timestamp('2021-04-25 00:02:00', freq='2T'),\n",
       "  2021-04-25 00:02:00    2\n",
       "  2021-04-25 00:02:01    0\n",
       "  2021-04-25 00:02:02    0\n",
       "  2021-04-25 00:02:03    8\n",
       "  2021-04-25 00:02:04    3\n",
       "                        ..\n",
       "  2021-04-25 00:03:55    0\n",
       "  2021-04-25 00:03:56    9\n",
       "  2021-04-25 00:03:57    8\n",
       "  2021-04-25 00:03:58    3\n",
       "  2021-04-25 00:03:59    3\n",
       "  Freq: S, Length: 120, dtype: int32),\n",
       " (Timestamp('2021-04-25 00:04:00', freq='2T'),\n",
       "  2021-04-25 00:04:00    2\n",
       "  2021-04-25 00:04:01    5\n",
       "  2021-04-25 00:04:02    1\n",
       "  2021-04-25 00:04:03    4\n",
       "  2021-04-25 00:04:04    5\n",
       "                        ..\n",
       "  2021-04-25 00:05:55    4\n",
       "  2021-04-25 00:05:56    6\n",
       "  2021-04-25 00:05:57    5\n",
       "  2021-04-25 00:05:58    5\n",
       "  2021-04-25 00:05:59    7\n",
       "  Freq: S, Length: 120, dtype: int32),\n",
       " (Timestamp('2021-04-25 00:06:00', freq='2T'),\n",
       "  2021-04-25 00:06:00    2\n",
       "  2021-04-25 00:06:01    4\n",
       "  2021-04-25 00:06:02    6\n",
       "  2021-04-25 00:06:03    1\n",
       "  2021-04-25 00:06:04    5\n",
       "                        ..\n",
       "  2021-04-25 00:07:55    0\n",
       "  2021-04-25 00:07:56    6\n",
       "  2021-04-25 00:07:57    6\n",
       "  2021-04-25 00:07:58    4\n",
       "  2021-04-25 00:07:59    1\n",
       "  Freq: S, Length: 120, dtype: int32),\n",
       " (Timestamp('2021-04-25 00:08:00', freq='2T'),\n",
       "  2021-04-25 00:08:00    9\n",
       "  2021-04-25 00:08:01    6\n",
       "  2021-04-25 00:08:02    8\n",
       "  2021-04-25 00:08:03    9\n",
       "  2021-04-25 00:08:04    0\n",
       "                        ..\n",
       "  2021-04-25 00:09:55    7\n",
       "  2021-04-25 00:09:56    6\n",
       "  2021-04-25 00:09:57    7\n",
       "  2021-04-25 00:09:58    7\n",
       "  2021-04-25 00:09:59    8\n",
       "  Freq: S, Length: 120, dtype: int32)]"
      ]
     },
     "execution_count": 12,
     "metadata": {},
     "output_type": "execute_result"
    }
   ],
   "source": [
    "list(ser.resample('2min', closed= 'left'))"
   ]
  },
  {
   "cell_type": "markdown",
   "metadata": {},
   "source": [
    "COMPARE ↑ these ↓ both"
   ]
  },
  {
   "cell_type": "code",
   "execution_count": 13,
   "metadata": {},
   "outputs": [
    {
     "data": {
      "text/plain": [
       "[(Timestamp('2021-04-24 23:58:00', freq='2T'),\n",
       "  2021-04-25    2\n",
       "  Freq: S, dtype: int32),\n",
       " (Timestamp('2021-04-25 00:00:00', freq='2T'),\n",
       "  2021-04-25 00:00:01    1\n",
       "  2021-04-25 00:00:02    4\n",
       "  2021-04-25 00:00:03    7\n",
       "  2021-04-25 00:00:04    4\n",
       "  2021-04-25 00:00:05    1\n",
       "                        ..\n",
       "  2021-04-25 00:01:56    9\n",
       "  2021-04-25 00:01:57    0\n",
       "  2021-04-25 00:01:58    9\n",
       "  2021-04-25 00:01:59    8\n",
       "  2021-04-25 00:02:00    2\n",
       "  Freq: S, Length: 120, dtype: int32),\n",
       " (Timestamp('2021-04-25 00:02:00', freq='2T'),\n",
       "  2021-04-25 00:02:01    0\n",
       "  2021-04-25 00:02:02    0\n",
       "  2021-04-25 00:02:03    8\n",
       "  2021-04-25 00:02:04    3\n",
       "  2021-04-25 00:02:05    8\n",
       "                        ..\n",
       "  2021-04-25 00:03:56    9\n",
       "  2021-04-25 00:03:57    8\n",
       "  2021-04-25 00:03:58    3\n",
       "  2021-04-25 00:03:59    3\n",
       "  2021-04-25 00:04:00    2\n",
       "  Freq: S, Length: 120, dtype: int32),\n",
       " (Timestamp('2021-04-25 00:04:00', freq='2T'),\n",
       "  2021-04-25 00:04:01    5\n",
       "  2021-04-25 00:04:02    1\n",
       "  2021-04-25 00:04:03    4\n",
       "  2021-04-25 00:04:04    5\n",
       "  2021-04-25 00:04:05    8\n",
       "                        ..\n",
       "  2021-04-25 00:05:56    6\n",
       "  2021-04-25 00:05:57    5\n",
       "  2021-04-25 00:05:58    5\n",
       "  2021-04-25 00:05:59    7\n",
       "  2021-04-25 00:06:00    2\n",
       "  Freq: S, Length: 120, dtype: int32),\n",
       " (Timestamp('2021-04-25 00:06:00', freq='2T'),\n",
       "  2021-04-25 00:06:01    4\n",
       "  2021-04-25 00:06:02    6\n",
       "  2021-04-25 00:06:03    1\n",
       "  2021-04-25 00:06:04    5\n",
       "  2021-04-25 00:06:05    8\n",
       "                        ..\n",
       "  2021-04-25 00:07:56    6\n",
       "  2021-04-25 00:07:57    6\n",
       "  2021-04-25 00:07:58    4\n",
       "  2021-04-25 00:07:59    1\n",
       "  2021-04-25 00:08:00    9\n",
       "  Freq: S, Length: 120, dtype: int32),\n",
       " (Timestamp('2021-04-25 00:08:00', freq='2T'),\n",
       "  2021-04-25 00:08:01    6\n",
       "  2021-04-25 00:08:02    8\n",
       "  2021-04-25 00:08:03    9\n",
       "  2021-04-25 00:08:04    0\n",
       "  2021-04-25 00:08:05    9\n",
       "                        ..\n",
       "  2021-04-25 00:09:55    7\n",
       "  2021-04-25 00:09:56    6\n",
       "  2021-04-25 00:09:57    7\n",
       "  2021-04-25 00:09:58    7\n",
       "  2021-04-25 00:09:59    8\n",
       "  Freq: S, Length: 119, dtype: int32)]"
      ]
     },
     "execution_count": 13,
     "metadata": {},
     "output_type": "execute_result"
    }
   ],
   "source": [
    "list(ser.resample('2min', closed= 'right'))"
   ]
  },
  {
   "cell_type": "markdown",
   "metadata": {},
   "source": [
    "Now? "
   ]
  },
  {
   "cell_type": "markdown",
   "metadata": {},
   "source": [
    "**My Interpretation:** Where the side is closed, it's like THAT's it! Nothing allowed.\n",
    "\n",
    "Like see, when the LEFT side was closed, it SHARPLY, Cookie cutterly, Solidely started with 00:00 not a second up or down. And when the right side is closed, the left side could start from 00:01, that means it can allow other details too, like 00:01:001 or something like that, it is not strict\n",
    "\n",
    "When the RIGHT side is closed it SHARPLY, restricted to end at 01:00 means no other details is allowed. That's like integer. And open side can allow float. *(I got a good one)*\n",
    "\n",
    "-- <br>\n",
    "Summry:<br>\n",
    "Closed side - Intger (like) - *inclusive* <br>\n",
    "Open side - Float (like) - *exclusive*"
   ]
  },
  {
   "cell_type": "markdown",
   "metadata": {},
   "source": [
    "# "
   ]
  },
  {
   "cell_type": "markdown",
   "metadata": {},
   "source": [
    "## → Changing time while doing resampling.\n",
    "`loffset`"
   ]
  },
  {
   "cell_type": "code",
   "execution_count": 20,
   "metadata": {},
   "outputs": [
    {
     "data": {
      "text/plain": [
       "2021-04-25 00:00:00    4.513333\n",
       "2021-04-25 00:05:00    4.503333\n",
       "Freq: 5T, dtype: float64"
      ]
     },
     "execution_count": 20,
     "metadata": {},
     "output_type": "execute_result"
    }
   ],
   "source": [
    "# Take a look at this\n",
    "ser.resample('5T').mean()"
   ]
  },
  {
   "cell_type": "code",
   "execution_count": 21,
   "metadata": {},
   "outputs": [
    {
     "name": "stderr",
     "output_type": "stream",
     "text": [
      "<ipython-input-21-9e9a47fb04b0>:2: FutureWarning: 'loffset' in .resample() and in Grouper() is deprecated.\n",
      "\n",
      ">>> df.resample(freq=\"3s\", loffset=\"8H\")\n",
      "\n",
      "becomes:\n",
      "\n",
      ">>> from pandas.tseries.frequencies import to_offset\n",
      ">>> df = df.resample(freq=\"3s\").mean()\n",
      ">>> df.index = df.index.to_timestamp() + to_offset(\"8H\")\n",
      "\n",
      "  ser.resample('5T', loffset= '-1T').mean()\n"
     ]
    },
    {
     "data": {
      "text/plain": [
       "2021-04-24 23:59:00    4.513333\n",
       "2021-04-25 00:04:00    4.503333\n",
       "Freq: 5T, dtype: float64"
      ]
     },
     "execution_count": 21,
     "metadata": {},
     "output_type": "execute_result"
    }
   ],
   "source": [
    "# Take a look at this\n",
    "ser.resample('5T', loffset= '-1T').mean()"
   ]
  },
  {
   "cell_type": "markdown",
   "metadata": {},
   "source": [
    "**CAUTION:** As the warning suggests ↑ `loffset` will be depricated in the future versions. <br>\n",
    "So we should use ↓"
   ]
  },
  {
   "cell_type": "code",
   "execution_count": 33,
   "metadata": {},
   "outputs": [],
   "source": [
    "from pandas.tseries.frequencies import to_offset"
   ]
  },
  {
   "cell_type": "code",
   "execution_count": 42,
   "metadata": {},
   "outputs": [
    {
     "data": {
      "text/plain": [
       "2021-04-24 23:59:00    4.513333\n",
       "2021-04-25 00:04:00    4.503333\n",
       "Freq: 5T, dtype: float64"
      ]
     },
     "execution_count": 42,
     "metadata": {},
     "output_type": "execute_result"
    }
   ],
   "source": [
    "result = ser.resample('5T').mean()\n",
    "result.index = result.index + to_offset('-1T')\n",
    "result"
   ]
  },
  {
   "cell_type": "markdown",
   "metadata": {},
   "source": [
    "Same."
   ]
  },
  {
   "cell_type": "markdown",
   "metadata": {},
   "source": [
    "**Interpretation**: As we can see (and also from the NEW process) it doesn't affect the data, it is related only with the index. So it will make increment or decrement in the indices (time) only.\n",
    "\n",
    "**Why did that?**: It is to make some clarity in the understanding the data."
   ]
  },
  {
   "cell_type": "markdown",
   "metadata": {},
   "source": [
    "### ↑ We could have also done this with SHIFT. ↑"
   ]
  },
  {
   "cell_type": "code",
   "execution_count": 47,
   "metadata": {},
   "outputs": [
    {
     "data": {
      "text/plain": [
       "2021-04-24 23:59:59    4.513333\n",
       "2021-04-25 00:04:59    4.503333\n",
       "Freq: 5T, dtype: float64"
      ]
     },
     "execution_count": 47,
     "metadata": {},
     "output_type": "execute_result"
    }
   ],
   "source": [
    "# Like this               ↓\n",
    "ser.resample('5T').mean().shift(freq= \"-1s\")"
   ]
  },
  {
   "cell_type": "markdown",
   "metadata": {},
   "source": [
    "So basically we have three ways!\n",
    "1. `loffset=`\n",
    "2. `to_offset()`\n",
    "3. `shift(freq=)`"
   ]
  },
  {
   "cell_type": "markdown",
   "metadata": {},
   "source": [
    "# "
   ]
  },
  {
   "cell_type": "markdown",
   "metadata": {},
   "source": [
    "## → `ohlc` So easy!"
   ]
  },
  {
   "cell_type": "code",
   "execution_count": 52,
   "metadata": {},
   "outputs": [
    {
     "data": {
      "text/html": [
       "<div>\n",
       "<style scoped>\n",
       "    .dataframe tbody tr th:only-of-type {\n",
       "        vertical-align: middle;\n",
       "    }\n",
       "\n",
       "    .dataframe tbody tr th {\n",
       "        vertical-align: top;\n",
       "    }\n",
       "\n",
       "    .dataframe thead th {\n",
       "        text-align: right;\n",
       "    }\n",
       "</style>\n",
       "<table border=\"1\" class=\"dataframe\">\n",
       "  <thead>\n",
       "    <tr style=\"text-align: right;\">\n",
       "      <th></th>\n",
       "      <th>open</th>\n",
       "      <th>high</th>\n",
       "      <th>low</th>\n",
       "      <th>close</th>\n",
       "    </tr>\n",
       "  </thead>\n",
       "  <tbody>\n",
       "    <tr>\n",
       "      <th>2021-04-25 00:00:00</th>\n",
       "      <td>2</td>\n",
       "      <td>9</td>\n",
       "      <td>0</td>\n",
       "      <td>8</td>\n",
       "    </tr>\n",
       "    <tr>\n",
       "      <th>2021-04-25 00:02:00</th>\n",
       "      <td>2</td>\n",
       "      <td>9</td>\n",
       "      <td>0</td>\n",
       "      <td>3</td>\n",
       "    </tr>\n",
       "    <tr>\n",
       "      <th>2021-04-25 00:04:00</th>\n",
       "      <td>2</td>\n",
       "      <td>9</td>\n",
       "      <td>0</td>\n",
       "      <td>7</td>\n",
       "    </tr>\n",
       "    <tr>\n",
       "      <th>2021-04-25 00:06:00</th>\n",
       "      <td>2</td>\n",
       "      <td>9</td>\n",
       "      <td>0</td>\n",
       "      <td>1</td>\n",
       "    </tr>\n",
       "    <tr>\n",
       "      <th>2021-04-25 00:08:00</th>\n",
       "      <td>9</td>\n",
       "      <td>9</td>\n",
       "      <td>0</td>\n",
       "      <td>8</td>\n",
       "    </tr>\n",
       "  </tbody>\n",
       "</table>\n",
       "</div>"
      ],
      "text/plain": [
       "                     open  high  low  close\n",
       "2021-04-25 00:00:00     2     9    0      8\n",
       "2021-04-25 00:02:00     2     9    0      3\n",
       "2021-04-25 00:04:00     2     9    0      7\n",
       "2021-04-25 00:06:00     2     9    0      1\n",
       "2021-04-25 00:08:00     9     9    0      8"
      ]
     },
     "execution_count": 52,
     "metadata": {},
     "output_type": "execute_result"
    }
   ],
   "source": [
    "ser.resample('2min').ohlc()"
   ]
  },
  {
   "cell_type": "markdown",
   "metadata": {},
   "source": [
    "It will go for each group of time (period) and compute the FIRST, LAST, MAX, MIN out of them. It is realy easy to understand.<br>\n",
    "It is manually doable. *(Again, computations will change if you change closed= right)*"
   ]
  },
  {
   "cell_type": "markdown",
   "metadata": {},
   "source": [
    "# "
   ]
  },
  {
   "cell_type": "markdown",
   "metadata": {},
   "source": [
    "# Till now,\n",
    "We saw the `Downsampling` where we did *Zoom out* from the detailed data. <br>\n",
    "\n",
    "Now it is time for `Upsampling & Interpolation` which will *Zoom in* the data. <br>\n",
    "*(**Notice**: That I used term 'Interpolation' with Upsampling - why? Because when we zoom in, we need to fill the artificial data in it. Remember in photoshop if you enlarge the image, it fills the pixels?)*"
   ]
  },
  {
   "cell_type": "markdown",
   "metadata": {},
   "source": [
    "# "
   ]
  },
  {
   "cell_type": "markdown",
   "metadata": {},
   "source": [
    "# UPSAMPLING & INTERPOLATION"
   ]
  },
  {
   "cell_type": "markdown",
   "metadata": {},
   "source": [
    "→ Key: *When converting low frequency to high frequency (upsampling) ***NO AGGREGATION*** is needed*"
   ]
  },
  {
   "cell_type": "markdown",
   "metadata": {},
   "source": [
    "# "
   ]
  },
  {
   "cell_type": "code",
   "execution_count": 62,
   "metadata": {},
   "outputs": [
    {
     "data": {
      "text/html": [
       "<div>\n",
       "<style scoped>\n",
       "    .dataframe tbody tr th:only-of-type {\n",
       "        vertical-align: middle;\n",
       "    }\n",
       "\n",
       "    .dataframe tbody tr th {\n",
       "        vertical-align: top;\n",
       "    }\n",
       "\n",
       "    .dataframe thead th {\n",
       "        text-align: right;\n",
       "    }\n",
       "</style>\n",
       "<table border=\"1\" class=\"dataframe\">\n",
       "  <thead>\n",
       "    <tr style=\"text-align: right;\">\n",
       "      <th></th>\n",
       "      <th>Book</th>\n",
       "      <th>Coursera</th>\n",
       "    </tr>\n",
       "  </thead>\n",
       "  <tbody>\n",
       "    <tr>\n",
       "      <th>2021-06-10</th>\n",
       "      <td>4</td>\n",
       "      <td>3</td>\n",
       "    </tr>\n",
       "    <tr>\n",
       "      <th>2021-06-12</th>\n",
       "      <td>1</td>\n",
       "      <td>4</td>\n",
       "    </tr>\n",
       "    <tr>\n",
       "      <th>2021-06-17</th>\n",
       "      <td>1</td>\n",
       "      <td>1</td>\n",
       "    </tr>\n",
       "  </tbody>\n",
       "</table>\n",
       "</div>"
      ],
      "text/plain": [
       "            Book  Coursera\n",
       "2021-06-10     4         3\n",
       "2021-06-12     1         4\n",
       "2021-06-17     1         1"
      ]
     },
     "execution_count": 62,
     "metadata": {},
     "output_type": "execute_result"
    }
   ],
   "source": [
    "# Here we will take dataframe into consideration!\n",
    "df = pd.DataFrame(np.random.randint(0, 6, (3, 2)),\n",
    "                  columns= ['Book', 'Coursera'],\n",
    "                  index= pd.DatetimeIndex(['6/10/2021', '6/12/2021', '6/17/2021']))\n",
    "                  \n",
    "df"
   ]
  },
  {
   "cell_type": "markdown",
   "metadata": {},
   "source": [
    "#### "
   ]
  },
  {
   "cell_type": "code",
   "execution_count": 64,
   "metadata": {},
   "outputs": [
    {
     "data": {
      "text/html": [
       "<div>\n",
       "<style scoped>\n",
       "    .dataframe tbody tr th:only-of-type {\n",
       "        vertical-align: middle;\n",
       "    }\n",
       "\n",
       "    .dataframe tbody tr th {\n",
       "        vertical-align: top;\n",
       "    }\n",
       "\n",
       "    .dataframe thead th {\n",
       "        text-align: right;\n",
       "    }\n",
       "</style>\n",
       "<table border=\"1\" class=\"dataframe\">\n",
       "  <thead>\n",
       "    <tr style=\"text-align: right;\">\n",
       "      <th></th>\n",
       "      <th>Book</th>\n",
       "      <th>Coursera</th>\n",
       "    </tr>\n",
       "  </thead>\n",
       "  <tbody>\n",
       "    <tr>\n",
       "      <th>2021-06-10</th>\n",
       "      <td>4.0</td>\n",
       "      <td>3.0</td>\n",
       "    </tr>\n",
       "    <tr>\n",
       "      <th>2021-06-11</th>\n",
       "      <td>NaN</td>\n",
       "      <td>NaN</td>\n",
       "    </tr>\n",
       "    <tr>\n",
       "      <th>2021-06-12</th>\n",
       "      <td>1.0</td>\n",
       "      <td>4.0</td>\n",
       "    </tr>\n",
       "    <tr>\n",
       "      <th>2021-06-13</th>\n",
       "      <td>NaN</td>\n",
       "      <td>NaN</td>\n",
       "    </tr>\n",
       "    <tr>\n",
       "      <th>2021-06-14</th>\n",
       "      <td>NaN</td>\n",
       "      <td>NaN</td>\n",
       "    </tr>\n",
       "    <tr>\n",
       "      <th>2021-06-15</th>\n",
       "      <td>NaN</td>\n",
       "      <td>NaN</td>\n",
       "    </tr>\n",
       "    <tr>\n",
       "      <th>2021-06-16</th>\n",
       "      <td>NaN</td>\n",
       "      <td>NaN</td>\n",
       "    </tr>\n",
       "    <tr>\n",
       "      <th>2021-06-17</th>\n",
       "      <td>1.0</td>\n",
       "      <td>1.0</td>\n",
       "    </tr>\n",
       "  </tbody>\n",
       "</table>\n",
       "</div>"
      ],
      "text/plain": [
       "            Book  Coursera\n",
       "2021-06-10   4.0       3.0\n",
       "2021-06-11   NaN       NaN\n",
       "2021-06-12   1.0       4.0\n",
       "2021-06-13   NaN       NaN\n",
       "2021-06-14   NaN       NaN\n",
       "2021-06-15   NaN       NaN\n",
       "2021-06-16   NaN       NaN\n",
       "2021-06-17   1.0       1.0"
      ]
     },
     "execution_count": 64,
     "metadata": {},
     "output_type": "execute_result"
    }
   ],
   "source": [
    "df.resample('D').mean()"
   ]
  },
  {
   "cell_type": "markdown",
   "metadata": {},
   "source": [
    "See ↑ aggregation in upscaling wont make any sense!"
   ]
  },
  {
   "cell_type": "markdown",
   "metadata": {},
   "source": [
    "#### So how are we gonna do that? I mean...\n",
    "How can we \"SEE\" the resampled data without aggregation? \n",
    "1. list(resampleddata) ? - Nah! It is not feasible\n",
    "2. use - `asfreq()` (BEST)"
   ]
  },
  {
   "cell_type": "markdown",
   "metadata": {},
   "source": [
    "# "
   ]
  },
  {
   "cell_type": "markdown",
   "metadata": {},
   "source": [
    "# <center> | HONORABLE MENTION | </center>"
   ]
  },
  {
   "cell_type": "markdown",
   "metadata": {},
   "source": [
    "#### <center> `asfreq` </center>"
   ]
  },
  {
   "cell_type": "markdown",
   "metadata": {},
   "source": [
    "**asfreq**: <br>\n",
    "It actully prints THAT date's data without any aggregation."
   ]
  },
  {
   "cell_type": "code",
   "execution_count": 72,
   "metadata": {},
   "outputs": [
    {
     "data": {
      "text/plain": [
       "2021-04-25 00:00:00    4.200000\n",
       "2021-04-25 00:02:00    4.791667\n",
       "2021-04-25 00:04:00    4.483333\n",
       "2021-04-25 00:06:00    4.391667\n",
       "2021-04-25 00:08:00    4.675000\n",
       "Freq: 2T, dtype: float64"
      ]
     },
     "execution_count": 72,
     "metadata": {},
     "output_type": "execute_result"
    }
   ],
   "source": [
    "# See here the aggregation\n",
    "ser.resample('2min').mean()"
   ]
  },
  {
   "cell_type": "markdown",
   "metadata": {},
   "source": [
    "    Here it has done the computation of 2 minutes blocks and used the mean agg."
   ]
  },
  {
   "cell_type": "markdown",
   "metadata": {},
   "source": [
    "###### "
   ]
  },
  {
   "cell_type": "code",
   "execution_count": 78,
   "metadata": {},
   "outputs": [
    {
     "data": {
      "text/plain": [
       "2021-04-25 00:00:00    2\n",
       "2021-04-25 00:02:00    2\n",
       "2021-04-25 00:04:00    2\n",
       "2021-04-25 00:06:00    2\n",
       "2021-04-25 00:08:00    9\n",
       "Freq: 2T, dtype: int32"
      ]
     },
     "execution_count": 78,
     "metadata": {},
     "output_type": "execute_result"
    }
   ],
   "source": [
    "# But here            ↓\n",
    "ser.resample('2min').asfreq()"
   ]
  },
  {
   "cell_type": "markdown",
   "metadata": {},
   "source": [
    "    Here ↑ like just the `pivot` function - it printed all values on that date.\n",
    "    ------------------\n",
    "    Little cheat sheet:\n",
    "    ------------------\n",
    "    \n",
    "    pivot       == resample().asfreq()\n",
    "    pivot_table == resample().mean()"
   ]
  },
  {
   "cell_type": "markdown",
   "metadata": {},
   "source": [
    "**So it turns out that** as freq is a better option when you need not to do any kind of aggregation but - just the data on that time frame."
   ]
  },
  {
   "cell_type": "markdown",
   "metadata": {},
   "source": [
    "***Secret:*** *It is (asfreq) will be so useful in this section*"
   ]
  },
  {
   "cell_type": "markdown",
   "metadata": {},
   "source": [
    "# "
   ]
  },
  {
   "cell_type": "markdown",
   "metadata": {},
   "source": [
    "### So back to the topic..."
   ]
  },
  {
   "cell_type": "code",
   "execution_count": 96,
   "metadata": {},
   "outputs": [
    {
     "data": {
      "text/html": [
       "<div>\n",
       "<style scoped>\n",
       "    .dataframe tbody tr th:only-of-type {\n",
       "        vertical-align: middle;\n",
       "    }\n",
       "\n",
       "    .dataframe tbody tr th {\n",
       "        vertical-align: top;\n",
       "    }\n",
       "\n",
       "    .dataframe thead th {\n",
       "        text-align: right;\n",
       "    }\n",
       "</style>\n",
       "<table border=\"1\" class=\"dataframe\">\n",
       "  <thead>\n",
       "    <tr style=\"text-align: right;\">\n",
       "      <th></th>\n",
       "      <th>Book</th>\n",
       "      <th>Coursera</th>\n",
       "    </tr>\n",
       "  </thead>\n",
       "  <tbody>\n",
       "    <tr>\n",
       "      <th>2021-06-10</th>\n",
       "      <td>4.0</td>\n",
       "      <td>3.0</td>\n",
       "    </tr>\n",
       "    <tr>\n",
       "      <th>2021-06-11</th>\n",
       "      <td>NaN</td>\n",
       "      <td>NaN</td>\n",
       "    </tr>\n",
       "    <tr>\n",
       "      <th>2021-06-12</th>\n",
       "      <td>1.0</td>\n",
       "      <td>4.0</td>\n",
       "    </tr>\n",
       "    <tr>\n",
       "      <th>2021-06-13</th>\n",
       "      <td>NaN</td>\n",
       "      <td>NaN</td>\n",
       "    </tr>\n",
       "    <tr>\n",
       "      <th>2021-06-14</th>\n",
       "      <td>NaN</td>\n",
       "      <td>NaN</td>\n",
       "    </tr>\n",
       "    <tr>\n",
       "      <th>2021-06-15</th>\n",
       "      <td>NaN</td>\n",
       "      <td>NaN</td>\n",
       "    </tr>\n",
       "    <tr>\n",
       "      <th>2021-06-16</th>\n",
       "      <td>NaN</td>\n",
       "      <td>NaN</td>\n",
       "    </tr>\n",
       "    <tr>\n",
       "      <th>2021-06-17</th>\n",
       "      <td>1.0</td>\n",
       "      <td>1.0</td>\n",
       "    </tr>\n",
       "  </tbody>\n",
       "</table>\n",
       "</div>"
      ],
      "text/plain": [
       "            Book  Coursera\n",
       "2021-06-10   4.0       3.0\n",
       "2021-06-11   NaN       NaN\n",
       "2021-06-12   1.0       4.0\n",
       "2021-06-13   NaN       NaN\n",
       "2021-06-14   NaN       NaN\n",
       "2021-06-15   NaN       NaN\n",
       "2021-06-16   NaN       NaN\n",
       "2021-06-17   1.0       1.0"
      ]
     },
     "execution_count": 96,
     "metadata": {},
     "output_type": "execute_result"
    }
   ],
   "source": [
    "df.resample('D').asfreq()"
   ]
  },
  {
   "cell_type": "markdown",
   "metadata": {},
   "source": [
    "Here, we can't (should't) use the aggregation - so we can use the `asfreq` here."
   ]
  },
  {
   "cell_type": "markdown",
   "metadata": {},
   "source": [
    "Now, <br>\n",
    "As you can see it has zoomed in and filled the gaps with NaN and produced new dates."
   ]
  },
  {
   "cell_type": "markdown",
   "metadata": {},
   "source": [
    "# "
   ]
  },
  {
   "cell_type": "markdown",
   "metadata": {},
   "source": [
    "#### Now to fill the data..."
   ]
  },
  {
   "cell_type": "code",
   "execution_count": 102,
   "metadata": {},
   "outputs": [
    {
     "data": {
      "text/html": [
       "<div>\n",
       "<style scoped>\n",
       "    .dataframe tbody tr th:only-of-type {\n",
       "        vertical-align: middle;\n",
       "    }\n",
       "\n",
       "    .dataframe tbody tr th {\n",
       "        vertical-align: top;\n",
       "    }\n",
       "\n",
       "    .dataframe thead th {\n",
       "        text-align: right;\n",
       "    }\n",
       "</style>\n",
       "<table border=\"1\" class=\"dataframe\">\n",
       "  <thead>\n",
       "    <tr style=\"text-align: right;\">\n",
       "      <th></th>\n",
       "      <th>Book</th>\n",
       "      <th>Coursera</th>\n",
       "    </tr>\n",
       "  </thead>\n",
       "  <tbody>\n",
       "    <tr>\n",
       "      <th>2021-06-10</th>\n",
       "      <td>4</td>\n",
       "      <td>3</td>\n",
       "    </tr>\n",
       "    <tr>\n",
       "      <th>2021-06-11</th>\n",
       "      <td>4</td>\n",
       "      <td>3</td>\n",
       "    </tr>\n",
       "    <tr>\n",
       "      <th>2021-06-12</th>\n",
       "      <td>1</td>\n",
       "      <td>4</td>\n",
       "    </tr>\n",
       "    <tr>\n",
       "      <th>2021-06-13</th>\n",
       "      <td>1</td>\n",
       "      <td>4</td>\n",
       "    </tr>\n",
       "    <tr>\n",
       "      <th>2021-06-14</th>\n",
       "      <td>1</td>\n",
       "      <td>4</td>\n",
       "    </tr>\n",
       "    <tr>\n",
       "      <th>2021-06-15</th>\n",
       "      <td>1</td>\n",
       "      <td>4</td>\n",
       "    </tr>\n",
       "    <tr>\n",
       "      <th>2021-06-16</th>\n",
       "      <td>1</td>\n",
       "      <td>4</td>\n",
       "    </tr>\n",
       "    <tr>\n",
       "      <th>2021-06-17</th>\n",
       "      <td>1</td>\n",
       "      <td>1</td>\n",
       "    </tr>\n",
       "  </tbody>\n",
       "</table>\n",
       "</div>"
      ],
      "text/plain": [
       "            Book  Coursera\n",
       "2021-06-10     4         3\n",
       "2021-06-11     4         3\n",
       "2021-06-12     1         4\n",
       "2021-06-13     1         4\n",
       "2021-06-14     1         4\n",
       "2021-06-15     1         4\n",
       "2021-06-16     1         4\n",
       "2021-06-17     1         1"
      ]
     },
     "execution_count": 102,
     "metadata": {},
     "output_type": "execute_result"
    }
   ],
   "source": [
    "df.resample('D').ffill()"
   ]
  },
  {
   "cell_type": "markdown",
   "metadata": {},
   "source": [
    "Of course, no need to use `.asferq` here."
   ]
  },
  {
   "cell_type": "code",
   "execution_count": 103,
   "metadata": {},
   "outputs": [
    {
     "data": {
      "text/html": [
       "<div>\n",
       "<style scoped>\n",
       "    .dataframe tbody tr th:only-of-type {\n",
       "        vertical-align: middle;\n",
       "    }\n",
       "\n",
       "    .dataframe tbody tr th {\n",
       "        vertical-align: top;\n",
       "    }\n",
       "\n",
       "    .dataframe thead th {\n",
       "        text-align: right;\n",
       "    }\n",
       "</style>\n",
       "<table border=\"1\" class=\"dataframe\">\n",
       "  <thead>\n",
       "    <tr style=\"text-align: right;\">\n",
       "      <th></th>\n",
       "      <th>Book</th>\n",
       "      <th>Coursera</th>\n",
       "    </tr>\n",
       "  </thead>\n",
       "  <tbody>\n",
       "    <tr>\n",
       "      <th>2021-06-10</th>\n",
       "      <td>4.0</td>\n",
       "      <td>3.0</td>\n",
       "    </tr>\n",
       "    <tr>\n",
       "      <th>2021-06-11</th>\n",
       "      <td>4.0</td>\n",
       "      <td>3.0</td>\n",
       "    </tr>\n",
       "    <tr>\n",
       "      <th>2021-06-12</th>\n",
       "      <td>1.0</td>\n",
       "      <td>4.0</td>\n",
       "    </tr>\n",
       "    <tr>\n",
       "      <th>2021-06-13</th>\n",
       "      <td>1.0</td>\n",
       "      <td>4.0</td>\n",
       "    </tr>\n",
       "    <tr>\n",
       "      <th>2021-06-14</th>\n",
       "      <td>1.0</td>\n",
       "      <td>4.0</td>\n",
       "    </tr>\n",
       "    <tr>\n",
       "      <th>2021-06-15</th>\n",
       "      <td>NaN</td>\n",
       "      <td>NaN</td>\n",
       "    </tr>\n",
       "    <tr>\n",
       "      <th>2021-06-16</th>\n",
       "      <td>NaN</td>\n",
       "      <td>NaN</td>\n",
       "    </tr>\n",
       "    <tr>\n",
       "      <th>2021-06-17</th>\n",
       "      <td>1.0</td>\n",
       "      <td>1.0</td>\n",
       "    </tr>\n",
       "  </tbody>\n",
       "</table>\n",
       "</div>"
      ],
      "text/plain": [
       "            Book  Coursera\n",
       "2021-06-10   4.0       3.0\n",
       "2021-06-11   4.0       3.0\n",
       "2021-06-12   1.0       4.0\n",
       "2021-06-13   1.0       4.0\n",
       "2021-06-14   1.0       4.0\n",
       "2021-06-15   NaN       NaN\n",
       "2021-06-16   NaN       NaN\n",
       "2021-06-17   1.0       1.0"
      ]
     },
     "execution_count": 103,
     "metadata": {},
     "output_type": "execute_result"
    }
   ],
   "source": [
    "df.resample('D').ffill(limit = 2)"
   ]
  },
  {
   "cell_type": "markdown",
   "metadata": {},
   "source": [
    "Whoo hoo!"
   ]
  },
  {
   "cell_type": "markdown",
   "metadata": {},
   "source": [
    "#### That even possible to see MONDAYS even if they are not in the data!"
   ]
  },
  {
   "cell_type": "code",
   "execution_count": 104,
   "metadata": {},
   "outputs": [
    {
     "data": {
      "text/html": [
       "<div>\n",
       "<style scoped>\n",
       "    .dataframe tbody tr th:only-of-type {\n",
       "        vertical-align: middle;\n",
       "    }\n",
       "\n",
       "    .dataframe tbody tr th {\n",
       "        vertical-align: top;\n",
       "    }\n",
       "\n",
       "    .dataframe thead th {\n",
       "        text-align: right;\n",
       "    }\n",
       "</style>\n",
       "<table border=\"1\" class=\"dataframe\">\n",
       "  <thead>\n",
       "    <tr style=\"text-align: right;\">\n",
       "      <th></th>\n",
       "      <th>Book</th>\n",
       "      <th>Coursera</th>\n",
       "    </tr>\n",
       "  </thead>\n",
       "  <tbody>\n",
       "    <tr>\n",
       "      <th>2021-06-10</th>\n",
       "      <td>4</td>\n",
       "      <td>3</td>\n",
       "    </tr>\n",
       "    <tr>\n",
       "      <th>2021-06-12</th>\n",
       "      <td>1</td>\n",
       "      <td>4</td>\n",
       "    </tr>\n",
       "    <tr>\n",
       "      <th>2021-06-17</th>\n",
       "      <td>1</td>\n",
       "      <td>1</td>\n",
       "    </tr>\n",
       "  </tbody>\n",
       "</table>\n",
       "</div>"
      ],
      "text/plain": [
       "            Book  Coursera\n",
       "2021-06-10     4         3\n",
       "2021-06-12     1         4\n",
       "2021-06-17     1         1"
      ]
     },
     "execution_count": 104,
     "metadata": {},
     "output_type": "execute_result"
    }
   ],
   "source": [
    "df"
   ]
  },
  {
   "cell_type": "code",
   "execution_count": 108,
   "metadata": {},
   "outputs": [
    {
     "data": {
      "text/html": [
       "<div>\n",
       "<style scoped>\n",
       "    .dataframe tbody tr th:only-of-type {\n",
       "        vertical-align: middle;\n",
       "    }\n",
       "\n",
       "    .dataframe tbody tr th {\n",
       "        vertical-align: top;\n",
       "    }\n",
       "\n",
       "    .dataframe thead th {\n",
       "        text-align: right;\n",
       "    }\n",
       "</style>\n",
       "<table border=\"1\" class=\"dataframe\">\n",
       "  <thead>\n",
       "    <tr style=\"text-align: right;\">\n",
       "      <th></th>\n",
       "      <th>Book</th>\n",
       "      <th>Coursera</th>\n",
       "    </tr>\n",
       "  </thead>\n",
       "  <tbody>\n",
       "    <tr>\n",
       "      <th>2021-06-14</th>\n",
       "      <td>NaN</td>\n",
       "      <td>NaN</td>\n",
       "    </tr>\n",
       "    <tr>\n",
       "      <th>2021-06-21</th>\n",
       "      <td>NaN</td>\n",
       "      <td>NaN</td>\n",
       "    </tr>\n",
       "  </tbody>\n",
       "</table>\n",
       "</div>"
      ],
      "text/plain": [
       "            Book  Coursera\n",
       "2021-06-14   NaN       NaN\n",
       "2021-06-21   NaN       NaN"
      ]
     },
     "execution_count": 108,
     "metadata": {},
     "output_type": "execute_result"
    }
   ],
   "source": [
    "df.resample('W-MON').asfreq()"
   ]
  },
  {
   "cell_type": "code",
   "execution_count": 113,
   "metadata": {},
   "outputs": [
    {
     "data": {
      "text/html": [
       "<div>\n",
       "<style scoped>\n",
       "    .dataframe tbody tr th:only-of-type {\n",
       "        vertical-align: middle;\n",
       "    }\n",
       "\n",
       "    .dataframe tbody tr th {\n",
       "        vertical-align: top;\n",
       "    }\n",
       "\n",
       "    .dataframe thead th {\n",
       "        text-align: right;\n",
       "    }\n",
       "</style>\n",
       "<table border=\"1\" class=\"dataframe\">\n",
       "  <thead>\n",
       "    <tr style=\"text-align: right;\">\n",
       "      <th></th>\n",
       "      <th>Book</th>\n",
       "      <th>Coursera</th>\n",
       "    </tr>\n",
       "  </thead>\n",
       "  <tbody>\n",
       "    <tr>\n",
       "      <th>2021-06-14</th>\n",
       "      <td>1</td>\n",
       "      <td>4</td>\n",
       "    </tr>\n",
       "    <tr>\n",
       "      <th>2021-06-21</th>\n",
       "      <td>1</td>\n",
       "      <td>1</td>\n",
       "    </tr>\n",
       "  </tbody>\n",
       "</table>\n",
       "</div>"
      ],
      "text/plain": [
       "            Book  Coursera\n",
       "2021-06-14     1         4\n",
       "2021-06-21     1         1"
      ]
     },
     "execution_count": 113,
     "metadata": {},
     "output_type": "execute_result"
    }
   ],
   "source": [
    "df.resample('W-MON').ffill()"
   ]
  },
  {
   "cell_type": "markdown",
   "metadata": {},
   "source": [
    "# "
   ]
  },
  {
   "cell_type": "markdown",
   "metadata": {},
   "source": [
    "# <center>  . . . </center>"
   ]
  },
  {
   "cell_type": "markdown",
   "metadata": {},
   "source": [
    "# "
   ]
  },
  {
   "cell_type": "code",
   "execution_count": null,
   "metadata": {},
   "outputs": [],
   "source": []
  }
 ],
 "metadata": {
  "kernelspec": {
   "display_name": "Python 3",
   "language": "python",
   "name": "python3"
  },
  "language_info": {
   "codemirror_mode": {
    "name": "ipython",
    "version": 3
   },
   "file_extension": ".py",
   "mimetype": "text/x-python",
   "name": "python",
   "nbconvert_exporter": "python",
   "pygments_lexer": "ipython3",
   "version": "3.8.5"
  }
 },
 "nbformat": 4,
 "nbformat_minor": 4
}
