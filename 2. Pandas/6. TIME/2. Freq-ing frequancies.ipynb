{
 "cells": [
  {
   "cell_type": "markdown",
   "metadata": {},
   "source": [
    "<center> <font face= \"product sans\" style= \"font-size:150px\"> Freaqs! </font> </center>"
   ]
  },
  {
   "cell_type": "markdown",
   "metadata": {},
   "source": [
    "Yah! Freqs!\n",
    "\n",
    "Here we will take a quick look at the frequencies - and their modes."
   ]
  },
  {
   "cell_type": "code",
   "execution_count": 1,
   "metadata": {},
   "outputs": [],
   "source": [
    "import pandas as pd\n",
    "import numpy as np"
   ]
  },
  {
   "cell_type": "markdown",
   "metadata": {},
   "source": [
    "# "
   ]
  },
  {
   "cell_type": "markdown",
   "metadata": {},
   "source": [
    "## → Checking different freq modes in date_range\n",
    "This is not just limited to the date_rage - with this I can explore the types of freqs which can be used for multimple purposes later."
   ]
  },
  {
   "cell_type": "markdown",
   "metadata": {},
   "source": [
    "# "
   ]
  },
  {
   "cell_type": "markdown",
   "metadata": {},
   "source": [
    "**SKIPPING:**\n",
    "- **'D'** - Day : **'B'** - BusinessDay\n",
    "- **'M'** - Month : **'BM'** - BusinessMonth\n",
    "- **'MS'** - BeginMonth : **'BMS'** : BeginBusinessMonth\n",
    "- **'T'** / **'min'** - Minutely\n",
    "- **'S'** - Secondly\n",
    "- **'L'** / **'ms'** - Millisecondly\n",
    "- **'U'** - Microsecondly"
   ]
  },
  {
   "cell_type": "markdown",
   "metadata": {},
   "source": [
    "# "
   ]
  },
  {
   "cell_type": "markdown",
   "metadata": {},
   "source": [
    "### `W-<day>`\n",
    "That day - weekly"
   ]
  },
  {
   "cell_type": "code",
   "execution_count": 2,
   "metadata": {},
   "outputs": [
    {
     "data": {
      "text/plain": [
       "DatetimeIndex(['2021-06-07', '2021-06-14', '2021-06-21', '2021-06-28',\n",
       "               '2021-07-05'],\n",
       "              dtype='datetime64[ns]', freq='W-MON')"
      ]
     },
     "execution_count": 2,
     "metadata": {},
     "output_type": "execute_result"
    }
   ],
   "source": [
    "pd.date_range('6/1/2021', freq= \"W-MON\", periods= 5)"
   ]
  },
  {
   "cell_type": "markdown",
   "metadata": {},
   "source": [
    "There is no `M-<day>` or something like that... because that means MONDAY each end on month... which is quite not feasible."
   ]
  },
  {
   "cell_type": "markdown",
   "metadata": {},
   "source": [
    "# "
   ]
  },
  {
   "cell_type": "markdown",
   "metadata": {},
   "source": [
    "### `WOM-<1/2/3/4><day>`\n",
    "I guess this is amazing! <br>\n",
    "Gives the date by day on perticular 'th' week (1 / 2 / 3 / 4)\n",
    "\n",
    "**Sentence:** <br>\n",
    "\\>>> I want each montday from the second week of each month.\n",
    "\n",
    "**Solution:** <br>\n",
    "\\>>> `WOM-2MON`\n",
    "___\n",
    "WOM = Week Of Month"
   ]
  },
  {
   "cell_type": "markdown",
   "metadata": {},
   "source": [
    "# "
   ]
  },
  {
   "cell_type": "markdown",
   "metadata": {},
   "source": [
    "<center> → While I am typing this: This is saturday and date is 12th June 2021 (12 / 6 / 2021) ← </center>"
   ]
  },
  {
   "cell_type": "code",
   "execution_count": 3,
   "metadata": {},
   "outputs": [
    {
     "data": {
      "text/plain": [
       "DatetimeIndex(['2021-01-09', '2021-02-13', '2021-03-13', '2021-04-10',\n",
       "               '2021-05-08', '2021-06-12', '2021-07-10', '2021-08-14',\n",
       "               '2021-09-11', '2021-10-09', '2021-11-13', '2021-12-11'],\n",
       "              dtype='datetime64[ns]', freq='WOM-2SAT')"
      ]
     },
     "execution_count": 3,
     "metadata": {},
     "output_type": "execute_result"
    }
   ],
   "source": [
    "# Getting all saturdays from 2nd weeks in year of 2021\n",
    "pd.date_range('1/1/2021', periods= 12, freq= \"WOM-2SAT\")"
   ]
  },
  {
   "cell_type": "markdown",
   "metadata": {},
   "source": [
    "WORKS! <br>\n",
    "*(I have kept 2SAT because here - 12th June falls in 2nd week)*<br> There is the same date on 5th index (making it 6th number for june)"
   ]
  },
  {
   "cell_type": "markdown",
   "metadata": {},
   "source": [
    "**NOTE:** As `W-<day>` example, here is also not any other like `WOY or WOD` which well, doesn't make any sense."
   ]
  },
  {
   "cell_type": "markdown",
   "metadata": {},
   "source": [
    "# "
   ]
  },
  {
   "cell_type": "markdown",
   "metadata": {},
   "source": [
    "### Using a GAP between dates\n",
    "*(works on both - W and WOM setting)*"
   ]
  },
  {
   "cell_type": "code",
   "execution_count": 4,
   "metadata": {},
   "outputs": [
    {
     "data": {
      "text/plain": [
       "DatetimeIndex(['2021-01-04', '2021-01-11', '2021-01-18', '2021-01-25',\n",
       "               '2021-02-01', '2021-02-08', '2021-02-15', '2021-02-22',\n",
       "               '2021-03-01', '2021-03-08', '2021-03-15', '2021-03-22'],\n",
       "              dtype='datetime64[ns]', freq='W-MON')"
      ]
     },
     "execution_count": 4,
     "metadata": {},
     "output_type": "execute_result"
    }
   ],
   "source": [
    "# Simple, MONDAY from EACH WEEK\n",
    "pd.date_range('1/1/2021', periods= 12, freq= 'W-MON')"
   ]
  },
  {
   "cell_type": "code",
   "execution_count": 5,
   "metadata": {},
   "outputs": [
    {
     "data": {
      "text/plain": [
       "DatetimeIndex(['2021-01-04', '2021-01-18', '2021-02-01', '2021-02-15',\n",
       "               '2021-03-01', '2021-03-15', '2021-03-29', '2021-04-12',\n",
       "               '2021-04-26', '2021-05-10', '2021-05-24', '2021-06-07'],\n",
       "              dtype='datetime64[ns]', freq='2W-MON')"
      ]
     },
     "execution_count": 5,
     "metadata": {},
     "output_type": "execute_result"
    }
   ],
   "source": [
    "# Gaps, MONDAY from EACH 2nd WEEK\n",
    "pd.date_range('1/1/2021', periods= 12, freq= '2W-MON')"
   ]
  },
  {
   "cell_type": "markdown",
   "metadata": {},
   "source": [
    "↑ Here to note that, it will give every second monday from the simple one. You can check. "
   ]
  },
  {
   "cell_type": "markdown",
   "metadata": {},
   "source": [
    "# "
   ]
  },
  {
   "cell_type": "code",
   "execution_count": 6,
   "metadata": {},
   "outputs": [
    {
     "data": {
      "text/plain": [
       "DatetimeIndex(['2021-01-09', '2021-02-13', '2021-03-13', '2021-04-10',\n",
       "               '2021-05-08', '2021-06-12', '2021-07-10', '2021-08-14',\n",
       "               '2021-09-11', '2021-10-09', '2021-11-13', '2021-12-11'],\n",
       "              dtype='datetime64[ns]', freq='WOM-2SAT')"
      ]
     },
     "execution_count": 6,
     "metadata": {},
     "output_type": "execute_result"
    }
   ],
   "source": [
    "# Simple, SATURDAY from 2nd week from each month\n",
    "pd.date_range('1/1/2021', periods= 12, freq= 'WOM-2SAT')"
   ]
  },
  {
   "cell_type": "code",
   "execution_count": 7,
   "metadata": {},
   "outputs": [
    {
     "data": {
      "text/plain": [
       "DatetimeIndex(['2021-01-09', '2021-04-10', '2021-07-10', '2021-10-09',\n",
       "               '2022-01-08', '2022-04-09', '2022-07-09', '2022-10-08',\n",
       "               '2023-01-14', '2023-04-08', '2023-07-08', '2023-10-14'],\n",
       "              dtype='datetime64[ns]', freq='3WOM-2SAT')"
      ]
     },
     "execution_count": 7,
     "metadata": {},
     "output_type": "execute_result"
    }
   ],
   "source": [
    "# Gaps, SATURDAY from 2nd week from each 3rd month\n",
    "pd.date_range('1/1/2021', periods= 12, freq= '3WOM-2SAT')"
   ]
  },
  {
   "cell_type": "markdown",
   "metadata": {},
   "source": [
    "# "
   ]
  },
  {
   "cell_type": "markdown",
   "metadata": {},
   "source": [
    "###  `Q-<mon>` \n",
    "It gives the LAST date of the month QUARTERLY"
   ]
  },
  {
   "cell_type": "code",
   "execution_count": 8,
   "metadata": {},
   "outputs": [
    {
     "data": {
      "text/plain": [
       "DatetimeIndex(['2021-01-31', '2021-04-30', '2021-07-31', '2021-10-31',\n",
       "               '2022-01-31'],\n",
       "              dtype='datetime64[ns]', freq='Q-JAN')"
      ]
     },
     "execution_count": 8,
     "metadata": {},
     "output_type": "execute_result"
    }
   ],
   "source": [
    "pd.date_range('1/1/2021', periods= 5, freq= \"Q-JAN\")"
   ]
  },
  {
   "cell_type": "markdown",
   "metadata": {},
   "source": [
    "↑ See the difference ↓"
   ]
  },
  {
   "cell_type": "code",
   "execution_count": 9,
   "metadata": {},
   "outputs": [
    {
     "data": {
      "text/plain": [
       "DatetimeIndex(['2021-04-30', '2021-07-31', '2021-10-31', '2022-01-31',\n",
       "               '2022-04-30'],\n",
       "              dtype='datetime64[ns]', freq='Q-JAN')"
      ]
     },
     "execution_count": 9,
     "metadata": {},
     "output_type": "execute_result"
    }
   ],
   "source": [
    "pd.date_range('15/2/2021', periods= 5, freq= \"Q-JAN\")"
   ]
  },
  {
   "cell_type": "markdown",
   "metadata": {},
   "source": [
    "Here the START date is changed but the freq stays the same. So this makes sence - that the frequency sets the time from which it has to start taking care of QUARTER."
   ]
  },
  {
   "cell_type": "markdown",
   "metadata": {},
   "source": [
    "# "
   ]
  },
  {
   "cell_type": "markdown",
   "metadata": {},
   "source": [
    "If we cange the freq ... it will reflect as assumed ↓"
   ]
  },
  {
   "cell_type": "code",
   "execution_count": 10,
   "metadata": {},
   "outputs": [
    {
     "data": {
      "text/plain": [
       "DatetimeIndex(['2021-02-28', '2021-05-31', '2021-08-31', '2021-11-30',\n",
       "               '2022-02-28'],\n",
       "              dtype='datetime64[ns]', freq='Q-FEB')"
      ]
     },
     "execution_count": 10,
     "metadata": {},
     "output_type": "execute_result"
    }
   ],
   "source": [
    "pd.date_range('15/2/2021', periods= 5, freq= \"Q-FEB\")"
   ]
  },
  {
   "cell_type": "markdown",
   "metadata": {},
   "source": [
    "# "
   ]
  },
  {
   "cell_type": "markdown",
   "metadata": {},
   "source": [
    "###  `BQ-<mon>`\n",
    "Last date of each month quarterly but it should be BUSINESS day."
   ]
  },
  {
   "cell_type": "code",
   "execution_count": 11,
   "metadata": {},
   "outputs": [
    {
     "data": {
      "text/plain": [
       "DatetimeIndex(['2021-01-31', '2021-04-30', '2021-07-31', '2021-10-31',\n",
       "               '2022-01-31'],\n",
       "              dtype='datetime64[ns]', freq='Q-JAN')"
      ]
     },
     "execution_count": 11,
     "metadata": {},
     "output_type": "execute_result"
    }
   ],
   "source": [
    "# Simple day\n",
    "pd.date_range('1/1/2021', periods= 5, freq= \"Q-JAN\")"
   ]
  },
  {
   "cell_type": "code",
   "execution_count": 12,
   "metadata": {},
   "outputs": [
    {
     "data": {
      "text/plain": [
       "DatetimeIndex(['2021-01-29', '2021-04-30', '2021-07-30', '2021-10-29',\n",
       "               '2022-01-31'],\n",
       "              dtype='datetime64[ns]', freq='BQ-JAN')"
      ]
     },
     "execution_count": 12,
     "metadata": {},
     "output_type": "execute_result"
    }
   ],
   "source": [
    "# Business Day\n",
    "pd.date_range('1/1/2021', periods= 5, freq= \"BQ-JAN\")"
   ]
  },
  {
   "cell_type": "markdown",
   "metadata": {},
   "source": [
    "↑ Observe the change in some dates..."
   ]
  },
  {
   "cell_type": "markdown",
   "metadata": {},
   "source": [
    "**NOTE** *(Please note)*: When we keep 'Q-JAN' it will product the quarters from JAN but that will be non applicable in the real world setting. As it starts with the 1st month and end at 10th month - **doesn't cover all months in the year**.\n",
    "\n",
    "**To get realistic result** we need to write either `Q` or `Q-DEC`. Which will start from month 3rd month and till 12th month."
   ]
  },
  {
   "cell_type": "markdown",
   "metadata": {},
   "source": [
    "# "
   ]
  },
  {
   "cell_type": "markdown",
   "metadata": {},
   "source": [
    "### `QS-<mon>` and `BQS-<mon>`\n",
    "Tired of having the last date of month? Get the first date of the month qarterly"
   ]
  },
  {
   "cell_type": "code",
   "execution_count": 13,
   "metadata": {},
   "outputs": [
    {
     "data": {
      "text/plain": [
       "DatetimeIndex(['2021-01-01', '2021-04-01', '2021-07-01', '2021-10-01',\n",
       "               '2022-01-01'],\n",
       "              dtype='datetime64[ns]', freq='QS-JAN')"
      ]
     },
     "execution_count": 13,
     "metadata": {},
     "output_type": "execute_result"
    }
   ],
   "source": [
    "# Nomal days\n",
    "pd.date_range('1/1/2021', periods= 5, freq= \"QS-JAN\")"
   ]
  },
  {
   "cell_type": "code",
   "execution_count": 14,
   "metadata": {},
   "outputs": [
    {
     "data": {
      "text/plain": [
       "DatetimeIndex(['2021-01-01', '2021-04-01', '2021-07-01', '2021-10-01',\n",
       "               '2022-01-03'],\n",
       "              dtype='datetime64[ns]', freq='BQS-JAN')"
      ]
     },
     "execution_count": 14,
     "metadata": {},
     "output_type": "execute_result"
    }
   ],
   "source": [
    "# Buisness days\n",
    "pd.date_range('1/1/2021', periods= 5, freq= \"BQS-JAN\")"
   ]
  },
  {
   "cell_type": "markdown",
   "metadata": {},
   "source": [
    "# "
   ]
  },
  {
   "cell_type": "markdown",
   "metadata": {},
   "source": [
    "### The same trick\n",
    "Applies here, get the **GAPED** quarters."
   ]
  },
  {
   "cell_type": "code",
   "execution_count": 15,
   "metadata": {},
   "outputs": [
    {
     "data": {
      "text/plain": [
       "DatetimeIndex(['2021-01-01', '2021-07-01', '2022-01-01', '2022-07-01',\n",
       "               '2023-01-01'],\n",
       "              dtype='datetime64[ns]', freq='2QS-JAN')"
      ]
     },
     "execution_count": 15,
     "metadata": {},
     "output_type": "execute_result"
    }
   ],
   "source": [
    "# Simple days 2 quarters (start month)\n",
    "pd.date_range('1/1/2021', periods= 5, freq= \"2QS-JAN\")"
   ]
  },
  {
   "cell_type": "code",
   "execution_count": 16,
   "metadata": {},
   "outputs": [
    {
     "data": {
      "text/plain": [
       "DatetimeIndex(['2021-01-29', '2021-07-30', '2022-01-31', '2022-07-29',\n",
       "               '2023-01-31'],\n",
       "              dtype='datetime64[ns]', freq='2BQ-JAN')"
      ]
     },
     "execution_count": 16,
     "metadata": {},
     "output_type": "execute_result"
    }
   ],
   "source": [
    "# Business days 2 quarters (end month)\n",
    "pd.date_range('1/1/2021', periods= 5, freq= \"2BQ-JAN\")"
   ]
  },
  {
   "cell_type": "markdown",
   "metadata": {},
   "source": [
    "# "
   ]
  },
  {
   "cell_type": "markdown",
   "metadata": {},
   "source": [
    "### `A-<mon>` : `BA-<mon>` and `AS-<mon>` : `BAS-<mon>`\n",
    "Get the dates in each year setting. Depending on the ***start / end*** of the month and ***normal / business*** days"
   ]
  },
  {
   "cell_type": "code",
   "execution_count": 17,
   "metadata": {},
   "outputs": [
    {
     "data": {
      "text/plain": [
       "DatetimeIndex(['2021-01-31', '2022-01-31', '2023-01-31', '2024-01-31',\n",
       "               '2025-01-31', '2026-01-31', '2027-01-31', '2028-01-31',\n",
       "               '2029-01-31', '2030-01-31'],\n",
       "              dtype='datetime64[ns]', freq='A-JAN')"
      ]
     },
     "execution_count": 17,
     "metadata": {},
     "output_type": "execute_result"
    }
   ],
   "source": [
    "pd.date_range('1/1/2021', periods= 10, freq= \"A-JAN\")"
   ]
  },
  {
   "cell_type": "code",
   "execution_count": 18,
   "metadata": {},
   "outputs": [
    {
     "data": {
      "text/plain": [
       "DatetimeIndex(['2021-02-28', '2022-02-28', '2023-02-28', '2024-02-29',\n",
       "               '2025-02-28', '2026-02-28', '2027-02-28', '2028-02-29',\n",
       "               '2029-02-28', '2030-02-28'],\n",
       "              dtype='datetime64[ns]', freq='A-FEB')"
      ]
     },
     "execution_count": 18,
     "metadata": {},
     "output_type": "execute_result"
    }
   ],
   "source": [
    "pd.date_range('1/1/2021', periods= 10, freq= \"A-FEB\")"
   ]
  },
  {
   "cell_type": "markdown",
   "metadata": {},
   "source": [
    "# "
   ]
  },
  {
   "cell_type": "markdown",
   "metadata": {},
   "source": [
    "## → Considering TIME in the dates "
   ]
  },
  {
   "cell_type": "markdown",
   "metadata": {},
   "source": [
    "In the examples above, we gave just the dates in the start, so it generated automatically just dates. And hid the time from them. Because the time is 0 there which is not reqired or usable.\n",
    "\n",
    "And if still you want to check that...\n",
    "```python\n",
    "pd.date_range('1/1/2021', periods= 10, freq= \"A-FEB\")[0]\n",
    ">>> Timestamp('2021-02-28 00:00:00', freq='A-FEB')\n",
    "```"
   ]
  },
  {
   "cell_type": "markdown",
   "metadata": {},
   "source": [
    "There is the time, but as it is not requested, it has dropped the idea of showing in the array."
   ]
  },
  {
   "cell_type": "markdown",
   "metadata": {},
   "source": [
    "# "
   ]
  },
  {
   "cell_type": "markdown",
   "metadata": {},
   "source": [
    "Now, let's assume that - you have the time in the data - and you start making the dates from it... "
   ]
  },
  {
   "cell_type": "code",
   "execution_count": 19,
   "metadata": {},
   "outputs": [
    {
     "data": {
      "text/plain": [
       "DatetimeIndex(['2021-04-25 05:20:01', '2021-04-26 05:20:01'], dtype='datetime64[ns]', freq='D')"
      ]
     },
     "execution_count": 19,
     "metadata": {},
     "output_type": "execute_result"
    }
   ],
   "source": [
    "pd.date_range(start= '25/4/2021 5:20:1', periods= 2)"
   ]
  },
  {
   "cell_type": "markdown",
   "metadata": {},
   "source": [
    "See? It has considered the TIME now. But we are weird person -  ***we will reset the time before generating dates***"
   ]
  },
  {
   "cell_type": "markdown",
   "metadata": {},
   "source": [
    "### `normalize = True`\n",
    "According to the docs:\n",
    "    \n",
    "    normalize: bool, default False\n",
    "        Normalize start/end dates to midnight before generating date range."
   ]
  },
  {
   "cell_type": "code",
   "execution_count": 20,
   "metadata": {},
   "outputs": [
    {
     "data": {
      "text/plain": [
       "DatetimeIndex(['2021-04-25', '2021-04-26'], dtype='datetime64[ns]', freq='D')"
      ]
     },
     "execution_count": 20,
     "metadata": {},
     "output_type": "execute_result"
    }
   ],
   "source": [
    "pd.date_range(start= '25/4/2021 5:20:1', periods= 2, normalize= True)"
   ]
  },
  {
   "cell_type": "markdown",
   "metadata": {},
   "source": [
    "KHOOL!"
   ]
  },
  {
   "cell_type": "markdown",
   "metadata": {},
   "source": [
    "# "
   ]
  },
  {
   "cell_type": "markdown",
   "metadata": {},
   "source": [
    "# <center> | EXTRA STUFF | </center> "
   ]
  },
  {
   "cell_type": "markdown",
   "metadata": {},
   "source": [
    "## → `.repeat()`\n",
    "There is the repeat method found in almost all pandas objects. Which will repeat each element given times.\n",
    "\n",
    "**Why mentioned here?**: It is because I found the *.repeat()* function with date_range() for the first time, and when I came here to add it, I found that the repeat is NOT ONLY with date_range but it is also for numpy array and Series and more. So, added here."
   ]
  },
  {
   "cell_type": "code",
   "execution_count": 5,
   "metadata": {},
   "outputs": [
    {
     "data": {
      "text/plain": [
       "array([0, 0, 0, 1, 1, 1, 2, 2, 2, 3, 3, 3, 4, 4, 4, 5, 5, 5, 6, 6, 6, 7,\n",
       "       7, 7, 8, 8, 8, 9, 9, 9])"
      ]
     },
     "execution_count": 5,
     "metadata": {},
     "output_type": "execute_result"
    }
   ],
   "source": [
    "np.arange(0, 10).repeat(3)"
   ]
  },
  {
   "cell_type": "markdown",
   "metadata": {},
   "source": [
    "# "
   ]
  },
  {
   "cell_type": "markdown",
   "metadata": {},
   "source": [
    "## → `np.tile()` "
   ]
  },
  {
   "cell_type": "markdown",
   "metadata": {},
   "source": [
    "Similar function is `.tile()` which does repetation in the order. Not like `.repeat()`"
   ]
  },
  {
   "cell_type": "markdown",
   "metadata": {},
   "source": [
    "**NOTE:** *.tile()* is available in NUMPY, it is not a method like *.repeat()*. It is a high level function. \n",
    "\n",
    "We needed it to make repeatation which we can do with Lists by...\n",
    "```python \n",
    "# Possible with Lists\n",
    "[1,2,3] * 3\n",
    ">>> [1,2,3,1,2,3,1,2,3]\n",
    "\n",
    "# but not with Numpy\n",
    "array([1,2,3]) * 3\n",
    ">>> array([1,6,9])\n",
    "```"
   ]
  },
  {
   "cell_type": "code",
   "execution_count": 9,
   "metadata": {},
   "outputs": [
    {
     "data": {
      "text/plain": [
       "array(['2021-04-25T00:00:00.000000000', '2021-04-26T00:00:00.000000000',\n",
       "       '2021-04-25T00:00:00.000000000', '2021-04-26T00:00:00.000000000',\n",
       "       '2021-04-25T00:00:00.000000000', '2021-04-26T00:00:00.000000000'],\n",
       "      dtype='datetime64[ns]')"
      ]
     },
     "execution_count": 9,
     "metadata": {},
     "output_type": "execute_result"
    }
   ],
   "source": [
    "np.tile(pd.date_range('25/4/2021', periods= 2), 3)"
   ]
  },
  {
   "cell_type": "markdown",
   "metadata": {},
   "source": [
    "# "
   ]
  },
  {
   "cell_type": "markdown",
   "metadata": {},
   "source": [
    "# That's it!\n",
    "I guess for the basics of time, we should end the notebook here. Next up we will take a look at how offsets work (they are freaking amazing)"
   ]
  }
 ],
 "metadata": {
  "kernelspec": {
   "display_name": "Python 3",
   "language": "python",
   "name": "python3"
  },
  "language_info": {
   "codemirror_mode": {
    "name": "ipython",
    "version": 3
   },
   "file_extension": ".py",
   "mimetype": "text/x-python",
   "name": "python",
   "nbconvert_exporter": "python",
   "pygments_lexer": "ipython3",
   "version": "3.8.5"
  }
 },
 "nbformat": 4,
 "nbformat_minor": 4
}
