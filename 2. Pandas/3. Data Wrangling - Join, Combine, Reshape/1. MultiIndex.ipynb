{
 "cells": [
  {
   "cell_type": "markdown",
   "metadata": {},
   "source": [
    "<center> <font face= 'consolas' style= 'font-size: 60px; font-weight:bold'>&nbsp;&nbsp;&nbsp; A&nbsp;&nbsp;1&nbsp;&nbsp;&nbsp;\"Aayush\" <br>\n",
    "                        B&nbsp;&nbsp;12&nbsp;&nbsp;&nbsp;&nbsp;&nbsp;-     <br>\n",
    "                        &nbsp;&nbsp;&nbsp;13&nbsp;&nbsp;&nbsp;&nbsp;&nbsp;-     <br>\n",
    "                        C&nbsp;&nbsp;344&nbsp;&nbsp;&nbsp;&nbsp;-     <br>\n",
    "                        &nbsp;&nbsp;&nbsp;566&nbsp;&nbsp;&nbsp;&nbsp;-     <br>\n",
    "                        &nbsp;&nbsp;&nbsp;1000&nbsp;&nbsp;&nbsp;-</font> </center>"
   ]
  },
  {
   "cell_type": "code",
   "execution_count": 1,
   "metadata": {},
   "outputs": [],
   "source": [
    "import pandas as pd\n",
    "import numpy as np"
   ]
  },
  {
   "cell_type": "markdown",
   "metadata": {},
   "source": [
    "# "
   ]
  },
  {
   "cell_type": "markdown",
   "metadata": {},
   "source": [
    "## → How to access inner levels (more than one)"
   ]
  },
  {
   "cell_type": "code",
   "execution_count": 25,
   "metadata": {},
   "outputs": [
    {
     "data": {
      "text/plain": [
       "A  1    73\n",
       "   2    90\n",
       "B  1    25\n",
       "   2    72\n",
       "   3    27\n",
       "C  2     9\n",
       "   3    81\n",
       "   4    83\n",
       "D  1    91\n",
       "   3    16\n",
       "dtype: int32"
      ]
     },
     "execution_count": 25,
     "metadata": {},
     "output_type": "execute_result"
    }
   ],
   "source": [
    "ser = pd.Series(np.random.randint(0, 100, 10),\n",
    "         index= [['A', 'A', 'B', 'B', 'B', 'C','C','C', 'D', 'D'],\n",
    "                 [1,    2,   1,   2,   3,   2,  3,  4,   1,   3]])\n",
    "\n",
    "ser"
   ]
  },
  {
   "cell_type": "code",
   "execution_count": 33,
   "metadata": {},
   "outputs": [
    {
     "data": {
      "text/plain": [
       "A  1    73\n",
       "   2    90\n",
       "B  1    25\n",
       "   2    72\n",
       "C  2     9\n",
       "D  1    91\n",
       "dtype: int32"
      ]
     },
     "execution_count": 33,
     "metadata": {},
     "output_type": "execute_result"
    }
   ],
   "source": [
    "# Possible with loc/iloc\n",
    "ser.loc[:, [1,2]]"
   ]
  },
  {
   "cell_type": "markdown",
   "metadata": {},
   "source": [
    "# "
   ]
  },
  {
   "cell_type": "markdown",
   "metadata": {},
   "source": [
    "A MultiIndex can be created and then used"
   ]
  },
  {
   "cell_type": "code",
   "execution_count": 36,
   "metadata": {},
   "outputs": [
    {
     "data": {
      "text/plain": [
       "A  1    57\n",
       "   2    23\n",
       "B  1    89\n",
       "   2    74\n",
       "   3    79\n",
       "C  2     8\n",
       "   3    68\n",
       "   4    84\n",
       "D  1    92\n",
       "   3    14\n",
       "dtype: int32"
      ]
     },
     "execution_count": 36,
     "metadata": {},
     "output_type": "execute_result"
    }
   ],
   "source": [
    "ind = pd.MultiIndex.from_arrays([['A', 'A', 'B', 'B', 'B', 'C','C','C', 'D', 'D'],\n",
    "                           [1,    2,   1,   2,   3,   2,  3,  4,   1,   3]])\n",
    "\n",
    "ser = pd.Series(np.random.randint(0, 100, 10), index= ind)\n",
    "ser"
   ]
  },
  {
   "cell_type": "markdown",
   "metadata": {},
   "source": [
    "Simple!"
   ]
  },
  {
   "cell_type": "markdown",
   "metadata": {},
   "source": [
    "# "
   ]
  },
  {
   "cell_type": "markdown",
   "metadata": {},
   "source": [
    "# Other stuff - undiscussed here (but useful)\n",
    "- `.index.names` - Gives names to the levels\n",
    "- `.swaplevel(0, 1)`\n",
    "- `.sort_index(level= 0)`\n",
    "    - `.swaplevel(0, 1).sort_index()` often used together\n",
    "- `.sum(level= 1)` - Under hood group by\n",
    "- `.set_index()`\n",
    "- `.reset_index()`"
   ]
  }
 ],
 "metadata": {
  "kernelspec": {
   "display_name": "Python 3",
   "language": "python",
   "name": "python3"
  },
  "language_info": {
   "codemirror_mode": {
    "name": "ipython",
    "version": 3
   },
   "file_extension": ".py",
   "mimetype": "text/x-python",
   "name": "python",
   "nbconvert_exporter": "python",
   "pygments_lexer": "ipython3",
   "version": "3.8.5"
  }
 },
 "nbformat": 4,
 "nbformat_minor": 4
}
