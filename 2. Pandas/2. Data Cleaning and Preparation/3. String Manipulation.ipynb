{
 "cells": [
  {
   "cell_type": "markdown",
   "metadata": {},
   "source": [
    "<center> <font face='consolas' style= 'font-size: 500px'> re </font> </center>"
   ]
  },
  {
   "cell_type": "markdown",
   "metadata": {},
   "source": [
    "# Intro\n",
    "This notebook starts with **basic understanding of Regular Expressions in general** then, covers regular expressions **in python** (withour pandas) and then, **with pandas**.\n",
    "\n",
    "After that, will cover some concept called 'Vectorized String operations'\n",
    "___\n",
    "Let's freakin' go!"
   ]
  },
  {
   "cell_type": "code",
   "execution_count": 3,
   "metadata": {},
   "outputs": [],
   "source": [
    "import pandas as pd\n",
    "import numpy as np\n",
    "from pandas import DataFrame, Series"
   ]
  },
  {
   "cell_type": "markdown",
   "metadata": {},
   "source": [
    "# re"
   ]
  },
  {
   "cell_type": "markdown",
   "metadata": {},
   "source": [
    "*regex* is commonly used for 3 things\n",
    "1. Pattern `matching`\n",
    "2. Substitution - `Replacement`\n",
    "3. Splitting"
   ]
  },
  {
   "cell_type": "markdown",
   "metadata": {},
   "source": [
    "# "
   ]
  },
  {
   "cell_type": "markdown",
   "metadata": {},
   "source": [
    "Now, from this single video - I got many confusions clear and got old memory refreshed: [Access here](https://www.youtube.com/watch?v=sa-TUpSx1JA)"
   ]
  },
  {
   "cell_type": "markdown",
   "metadata": {},
   "source": [
    "# "
   ]
  },
  {
   "cell_type": "markdown",
   "metadata": {},
   "source": [
    "### Key takeaways:\n",
    "\n",
    "**Values' presence**:\n",
    "- `*` 0 or More\n",
    "- `+` 1 or More\n",
    "- `?` 0 or 1\n",
    "\n",
    "**Constraint (Only from this set of chars - possible values)**:\n",
    "- `[]`\n",
    "<br>Note: In the `[]` all special charecters like `.`, `-`, `+` can be used without a need of `\\`.\n",
    "\n",
    "**Options (The pattern inside a pattern)**:\n",
    "- `()`\n",
    "<br>Note: If there are no options ie. paranthesis, then the default is always there at the 0 level - whole expression\n",
    "\n",
    "**Range**:\n",
    "- `A-Z`\n",
    "- `0-9`\n",
    "<br> This kind of range can only be passed in the `[]`. Because it shows us the possible values.\n",
    "\n",
    "**Preset**:\n",
    "- `\\w`\n",
    "- `\\d`\n",
    "- `\\b`\n",
    "- `\\s`\n",
    "- `.` (Any charecter except new line)\n",
    "\n",
    "**Repetation**:\n",
    "- `{}`"
   ]
  },
  {
   "cell_type": "markdown",
   "metadata": {},
   "source": [
    "# "
   ]
  },
  {
   "cell_type": "markdown",
   "metadata": {},
   "source": [
    "# re in Python\n",
    "One thing to keep in mind is that, \"You are in python\".  \n",
    "So, while giving a pattern, use `r''` so that the escape charecters don't get messed up with python strings."
   ]
  },
  {
   "cell_type": "code",
   "execution_count": 4,
   "metadata": {},
   "outputs": [],
   "source": [
    "import re"
   ]
  },
  {
   "cell_type": "code",
   "execution_count": 6,
   "metadata": {},
   "outputs": [],
   "source": [
    "txt1 = \\\n",
    "\"\"\"\n",
    "Aayush: I know that, okay\n",
    "They: You are dumb, man!\n",
    "Aayush: Hah!\n",
    "They: You know nothing!\n",
    "Aayush: Watch me ∞\n",
    "\"\"\"\n",
    "\n",
    "txt2 = 'India    USA    London\\tWorld'"
   ]
  },
  {
   "cell_type": "markdown",
   "metadata": {},
   "source": [
    "# "
   ]
  },
  {
   "cell_type": "markdown",
   "metadata": {},
   "source": [
    "# `re.split()`"
   ]
  },
  {
   "cell_type": "code",
   "execution_count": 19,
   "metadata": {},
   "outputs": [
    {
     "data": {
      "text/plain": [
       "['India', 'USA', 'London', 'World']"
      ]
     },
     "execution_count": 19,
     "metadata": {},
     "output_type": "execute_result"
    }
   ],
   "source": [
    "re.split(r'\\s+', txt2)"
   ]
  },
  {
   "cell_type": "code",
   "execution_count": 20,
   "metadata": {},
   "outputs": [
    {
     "data": {
      "text/plain": [
       "['',\n",
       " 'Aayush: I know that, okay',\n",
       " 'They: You are dumb, man!',\n",
       " 'Aayush: Hah!',\n",
       " 'They: You know nothing!',\n",
       " 'Aayush: Watch me ∞',\n",
       " '']"
      ]
     },
     "execution_count": 20,
     "metadata": {},
     "output_type": "execute_result"
    }
   ],
   "source": [
    "re.split(r'\\n', txt1)"
   ]
  },
  {
   "cell_type": "markdown",
   "metadata": {},
   "source": [
    "What if I want to get names, ok a speaker from the conversation... I would do this... ↓"
   ]
  },
  {
   "cell_type": "code",
   "execution_count": 24,
   "metadata": {},
   "outputs": [
    {
     "data": {
      "text/plain": [
       "['\\n',\n",
       " ' I know that, okay\\n',\n",
       " ' You are dumb, man!\\n',\n",
       " ' Hah!\\n',\n",
       " ' You know nothing!\\n',\n",
       " ' Watch me ∞\\n']"
      ]
     },
     "execution_count": 24,
     "metadata": {},
     "output_type": "execute_result"
    }
   ],
   "source": [
    "re.split(r'[\\w]+:', txt1)"
   ]
  },
  {
   "cell_type": "markdown",
   "metadata": {},
   "source": [
    "But, that will split FROM there, so... that will not help...  \n",
    "We **need a function that gives us the strings that `Matched` the pattern**\n",
    "\n",
    "use..."
   ]
  },
  {
   "cell_type": "markdown",
   "metadata": {},
   "source": [
    "# `re.findall()`"
   ]
  },
  {
   "cell_type": "code",
   "execution_count": 33,
   "metadata": {},
   "outputs": [
    {
     "data": {
      "text/plain": [
       "['Aayush:', 'They:', 'Aayush:', 'They:', 'Aayush:']"
      ]
     },
     "execution_count": 33,
     "metadata": {},
     "output_type": "execute_result"
    }
   ],
   "source": [
    "re.findall(r'[\\w]+:', txt1)"
   ]
  },
  {
   "cell_type": "markdown",
   "metadata": {},
   "source": [
    "# "
   ]
  },
  {
   "cell_type": "markdown",
   "metadata": {},
   "source": [
    "# `re.compile()`\n",
    "This function is very useful when we are REUSING the same pattern again. It saves CPU cycles. And makes work faster.  \n",
    "__  \n",
    "So, when you run any *re.\\<func>*, it first, compiles the pattern inside it and then matched with the string provided.\n",
    "\n",
    "```python\n",
    "re.findall(r'[\\w]+:', txt1)\n",
    "\n",
    "# can be written as\n",
    "\n",
    "regex = re.compile(r'[\\w]+:')\n",
    "regex.findall(txt1)\n",
    "```"
   ]
  },
  {
   "cell_type": "markdown",
   "metadata": {},
   "source": [
    "# "
   ]
  },
  {
   "cell_type": "markdown",
   "metadata": {},
   "source": [
    "# "
   ]
  },
  {
   "cell_type": "markdown",
   "metadata": {},
   "source": [
    "**NOTE:**<br>\n",
    "Keep one thing in mind that - `EACH function` in `re` module comes with a **`flag`** parameter in it. No matter what function it is, it can be *split*, *findall* or even *compile* - each function is with flag parameter. \n",
    "\n",
    "> *flag* parameter is used to give some extra constraints or some rules to tell `re` to keep in mind, while matching the pattern with the text.\n",
    "\n",
    "The most famous one is: `re.IGNORECASE`. \n",
    "___\n",
    "#### re.IGNORECASE:\n",
    "It is used, well as it says - to ignore case. So when you write:\n",
    "```python\n",
    "re.findall(r\"[A-Za-z0-9]+@[A-Za-z].com\", emails)\n",
    "\n",
    "# you can use ↓\n",
    "re.findall(r\"[A-Z0-9]+@[A-Z].com\", emails, flag= re.IGNORECASE)\n",
    "```\n",
    "\n",
    "Which will give the same result and the pattern becomes more readable (of course you could have used `\\w` instead of `a-z` but to drive point home, I did that intentionally.)  \n",
    "__  \n",
    "\n",
    "**Similarly**:<br>\n",
    "You can SAVE / COMPILE the regex with the flag\n",
    "```python\n",
    "regex = re.compile(\"[A-Z]+\", flag= re.IGNORECASE)\n",
    "\n",
    "# then use!\n",
    "regex.findall(text)\n",
    "```"
   ]
  },
  {
   "cell_type": "markdown",
   "metadata": {},
   "source": [
    "# "
   ]
  },
  {
   "cell_type": "markdown",
   "metadata": {},
   "source": [
    "# `re.search`\n",
    "It returns only First match, and as a special object."
   ]
  },
  {
   "cell_type": "code",
   "execution_count": 34,
   "metadata": {},
   "outputs": [
    {
     "data": {
      "text/plain": [
       "<re.Match object; span=(1, 8), match='Aayush:'>"
      ]
     },
     "execution_count": 34,
     "metadata": {},
     "output_type": "execute_result"
    }
   ],
   "source": [
    "re.search(r'[\\w]+:', txt1)"
   ]
  },
  {
   "cell_type": "code",
   "execution_count": 41,
   "metadata": {},
   "outputs": [],
   "source": [
    "search = re.search(r'[\\w]+:', txt1)"
   ]
  },
  {
   "cell_type": "code",
   "execution_count": 42,
   "metadata": {},
   "outputs": [
    {
     "data": {
      "text/plain": [
       "1"
      ]
     },
     "execution_count": 42,
     "metadata": {},
     "output_type": "execute_result"
    }
   ],
   "source": [
    "search.start()"
   ]
  },
  {
   "cell_type": "code",
   "execution_count": 43,
   "metadata": {},
   "outputs": [
    {
     "data": {
      "text/plain": [
       "8"
      ]
     },
     "execution_count": 43,
     "metadata": {},
     "output_type": "execute_result"
    }
   ],
   "source": [
    "search.end()"
   ]
  },
  {
   "cell_type": "code",
   "execution_count": 44,
   "metadata": {},
   "outputs": [
    {
     "data": {
      "text/plain": [
       "'Aayush:'"
      ]
     },
     "execution_count": 44,
     "metadata": {},
     "output_type": "execute_result"
    }
   ],
   "source": [
    "txt1[search.start() : search.end()]"
   ]
  },
  {
   "cell_type": "markdown",
   "metadata": {},
   "source": [
    "See? Only the first match."
   ]
  },
  {
   "cell_type": "markdown",
   "metadata": {},
   "source": [
    "# "
   ]
  },
  {
   "cell_type": "markdown",
   "metadata": {},
   "source": [
    "# `re.match`\n",
    "This is weirdo, this will return None, if the pattern is NOT found in very very beginning of the string.  \n",
    "It requires the pattern to be found at the beginning of the string."
   ]
  },
  {
   "cell_type": "code",
   "execution_count": 60,
   "metadata": {},
   "outputs": [
    {
     "name": "stdout",
     "output_type": "stream",
     "text": [
      "None\n"
     ]
    }
   ],
   "source": [
    "print(re.match(r'[\\w]+:', txt1))"
   ]
  },
  {
   "cell_type": "markdown",
   "metadata": {},
   "source": [
    "And if I MAKE it to be found at the very beginning..."
   ]
  },
  {
   "cell_type": "code",
   "execution_count": 70,
   "metadata": {},
   "outputs": [],
   "source": [
    "tmp = \\\n",
    "\"\"\"Aayush: I know that, okay\n",
    "They: You are dumb, man!\n",
    "Aayush: Hah!\n",
    "They: You know nothing!\n",
    "Aayush: Watch me ∞\n",
    "\"\"\""
   ]
  },
  {
   "cell_type": "code",
   "execution_count": 71,
   "metadata": {},
   "outputs": [
    {
     "data": {
      "text/plain": [
       "<re.Match object; span=(0, 7), match='Aayush:'>"
      ]
     },
     "execution_count": 71,
     "metadata": {},
     "output_type": "execute_result"
    }
   ],
   "source": [
    "re.match(r'[\\w]+:', tmp)"
   ]
  },
  {
   "cell_type": "code",
   "execution_count": 72,
   "metadata": {},
   "outputs": [
    {
     "data": {
      "text/plain": [
       "(0, 7)"
      ]
     },
     "execution_count": 72,
     "metadata": {},
     "output_type": "execute_result"
    }
   ],
   "source": [
    "m = re.match(r'[\\w]+:', tmp)\n",
    "(m.start(), m.end())"
   ]
  },
  {
   "cell_type": "markdown",
   "metadata": {},
   "source": [
    "See? Works the same as search, but requires the pattern to be at very start.  \n",
    "\n",
    "**And remember?:** When you were FIRST learnig re in the college, you used some function to decide the acceptable ID format or not - dat! That! was this `SAME .match` function.\n",
    "\n",
    "As it matches right from the start, it works well in the ID match."
   ]
  },
  {
   "cell_type": "markdown",
   "metadata": {},
   "source": [
    "# "
   ]
  },
  {
   "cell_type": "markdown",
   "metadata": {},
   "source": [
    "# `re.sub`\n",
    "This one is Really cool. It is the `replace` for patterns."
   ]
  },
  {
   "cell_type": "code",
   "execution_count": 73,
   "metadata": {},
   "outputs": [
    {
     "data": {
      "text/plain": [
       "'SPEAKER: I know that, okay\\nSPEAKER: You are dumb, man!\\nSPEAKER: Hah!\\nSPEAKER: You know nothing!\\nSPEAKER: Watch me ∞\\n'"
      ]
     },
     "execution_count": 73,
     "metadata": {},
     "output_type": "execute_result"
    }
   ],
   "source": [
    "re.sub(r'[\\w]+:', 'SPEAKER:', tmp)"
   ]
  },
  {
   "cell_type": "code",
   "execution_count": 74,
   "metadata": {},
   "outputs": [
    {
     "name": "stdout",
     "output_type": "stream",
     "text": [
      "SPEAKER: I know that, okay\n",
      "SPEAKER: You are dumb, man!\n",
      "SPEAKER: Hah!\n",
      "SPEAKER: You know nothing!\n",
      "SPEAKER: Watch me ∞\n",
      "\n"
     ]
    }
   ],
   "source": [
    "print(re.sub(r'[\\w]+:', 'SPEAKER:', tmp))"
   ]
  },
  {
   "cell_type": "markdown",
   "metadata": {},
   "source": [
    "<font size= 6> See! How Cool is that! </font>\n",
    "I am noting it as the Special, it can be used in many places..."
   ]
  },
  {
   "cell_type": "markdown",
   "metadata": {},
   "source": [
    "<center> <font face=\"consolas\" style= \"font-size: 100px\"> re.sub() </font> </center>"
   ]
  },
  {
   "cell_type": "markdown",
   "metadata": {},
   "source": [
    "# "
   ]
  },
  {
   "cell_type": "markdown",
   "metadata": {},
   "source": [
    "# → When `re.match` is useful"
   ]
  },
  {
   "cell_type": "code",
   "execution_count": 108,
   "metadata": {},
   "outputs": [],
   "source": [
    "# Let's change our subject from conversation to the emails\n",
    "emails = \\\n",
    "\"\"\"aayushsameershah@gmail.com\n",
    "shahsameer791@gmail.com\n",
    "sameer_shah123@gmail.com\n",
    "aayush+sameer+123@yahoo.com\n",
    "\"\"\""
   ]
  },
  {
   "cell_type": "code",
   "execution_count": 110,
   "metadata": {},
   "outputs": [
    {
     "data": {
      "text/plain": [
       "['aayushsameershah@gmail.com',\n",
       " 'shahsameer791@gmail.com',\n",
       " 'sameer_shah123@gmail.com',\n",
       " 'aayush+sameer+123@yahoo.com']"
      ]
     },
     "execution_count": 110,
     "metadata": {},
     "output_type": "execute_result"
    }
   ],
   "source": [
    "# Normal matches\n",
    "pattern = r'[A-Z0-9_+.]+@[A-Z]+\\.[A-Z]{3,4}'\n",
    "re.findall(pattern, emails, flags= re.IGNORECASE)"
   ]
  },
  {
   "cell_type": "markdown",
   "metadata": {},
   "source": [
    "# "
   ]
  },
  {
   "cell_type": "markdown",
   "metadata": {},
   "source": [
    "Here, it is useful"
   ]
  },
  {
   "cell_type": "code",
   "execution_count": 111,
   "metadata": {},
   "outputs": [
    {
     "data": {
      "text/plain": [
       "[('aayushsameershah', 'gmail', 'com'),\n",
       " ('shahsameer791', 'gmail', 'com'),\n",
       " ('sameer_shah123', 'gmail', 'com'),\n",
       " ('aayush+sameer+123', 'yahoo', 'com')]"
      ]
     },
     "execution_count": 111,
     "metadata": {},
     "output_type": "execute_result"
    }
   ],
   "source": [
    "# Normal matches\n",
    "pattern = r'([A-Z0-9_+.]+)@([A-Z]+)\\.([A-Z]{3,4})'\n",
    "re.findall(pattern, emails, flags= re.IGNORECASE)"
   ]
  },
  {
   "cell_type": "markdown",
   "metadata": {},
   "source": [
    "#### See! Now, they are partitioned!"
   ]
  },
  {
   "cell_type": "markdown",
   "metadata": {},
   "source": [
    "# "
   ]
  },
  {
   "cell_type": "code",
   "execution_count": 119,
   "metadata": {},
   "outputs": [],
   "source": [
    "m = re.match(pattern, emails, flags= re.IGNORECASE)"
   ]
  },
  {
   "cell_type": "code",
   "execution_count": 120,
   "metadata": {},
   "outputs": [
    {
     "data": {
      "text/plain": [
       "('aayushsameershah', 'gmail', 'com')"
      ]
     },
     "execution_count": 120,
     "metadata": {},
     "output_type": "execute_result"
    }
   ],
   "source": [
    "# The first only\n",
    "m.groups()"
   ]
  },
  {
   "cell_type": "markdown",
   "metadata": {},
   "source": [
    "# "
   ]
  },
  {
   "cell_type": "markdown",
   "metadata": {},
   "source": [
    "There are the placeholder - 1,2,3 (refering to the group position - starts from 0 the root.)"
   ]
  },
  {
   "cell_type": "code",
   "execution_count": 126,
   "metadata": {},
   "outputs": [
    {
     "name": "stdout",
     "output_type": "stream",
     "text": [
      "NAME: aayushsameershah DOMAN: gmail OTHER: com\n",
      "NAME: shahsameer791 DOMAN: gmail OTHER: com\n",
      "NAME: sameer_shah123 DOMAN: gmail OTHER: com\n",
      "NAME: aayush+sameer+123 DOMAN: yahoo OTHER: com\n",
      "\n"
     ]
    }
   ],
   "source": [
    "print(re.sub(pattern, r\"NAME: \\1 DOMAN: \\2 OTHER: \\3\", emails, flags= re.IGNORECASE))"
   ]
  },
  {
   "cell_type": "markdown",
   "metadata": {},
   "source": [
    "When using `wrong` reference"
   ]
  },
  {
   "cell_type": "code",
   "execution_count": 129,
   "metadata": {},
   "outputs": [
    {
     "ename": "error",
     "evalue": "invalid group reference 11 at position 7",
     "output_type": "error",
     "traceback": [
      "\u001b[1;31merror\u001b[0m\u001b[1;31m:\u001b[0m invalid group reference 11\n"
     ]
    }
   ],
   "source": [
    "print(re.sub(pattern, r\"NAME: \\11 DOMAN: \\234 OTHER: \\3545\", emails, flags= re.IGNORECASE))"
   ]
  },
  {
   "cell_type": "markdown",
   "metadata": {},
   "source": [
    "# "
   ]
  },
  {
   "cell_type": "markdown",
   "metadata": {},
   "source": [
    "# "
   ]
  },
  {
   "cell_type": "markdown",
   "metadata": {},
   "source": [
    "# re in Pandas\n",
    "Vectorized String Operations"
   ]
  },
  {
   "cell_type": "code",
   "execution_count": 141,
   "metadata": {},
   "outputs": [
    {
     "data": {
      "text/plain": [
       "Aayush     aayushsameershah@gmail.com\n",
       "Sameer            sameer123@GmAil.com\n",
       "Shah        aayush+123+shah@yahoo.com\n",
       "unknown                           NaN\n",
       "dtype: object"
      ]
     },
     "execution_count": 141,
     "metadata": {},
     "output_type": "execute_result"
    }
   ],
   "source": [
    "data = {'Aayush': 'aayushsameershah@gmail.com',\n",
    "        'Sameer': 'sameer123@GmAil.com',\n",
    "        'Shah': 'aayush+123+shah@yahoo.com',\n",
    "        'unknown': np.nan}\n",
    "\n",
    "ser = Series(data)\n",
    "ser"
   ]
  },
  {
   "cell_type": "markdown",
   "metadata": {},
   "source": [
    "    The simple .apply function can be provided to get things done with strings, but the exceptions will occur when you encounter the NaN values. Pandas take care of it internally with vectorized operations - and also efficiently."
   ]
  },
  {
   "cell_type": "markdown",
   "metadata": {},
   "source": [
    "## **str.contains()**"
   ]
  },
  {
   "cell_type": "code",
   "execution_count": 142,
   "metadata": {},
   "outputs": [
    {
     "data": {
      "text/plain": [
       "Aayush      True\n",
       "Sameer     False\n",
       "Shah       False\n",
       "unknown      NaN\n",
       "dtype: object"
      ]
     },
     "execution_count": 142,
     "metadata": {},
     "output_type": "execute_result"
    }
   ],
   "source": [
    "ser.str.contains('gmail')"
   ]
  },
  {
   "cell_type": "code",
   "execution_count": 143,
   "metadata": {},
   "outputs": [
    {
     "data": {
      "text/plain": [
       "Aayush    aayushsameershah@gmail.com\n",
       "dtype: object"
      ]
     },
     "execution_count": 143,
     "metadata": {},
     "output_type": "execute_result"
    }
   ],
   "source": [
    "ser[ser.str.contains('gmail') == True]"
   ]
  },
  {
   "cell_type": "markdown",
   "metadata": {},
   "source": [
    "# "
   ]
  },
  {
   "cell_type": "code",
   "execution_count": 145,
   "metadata": {},
   "outputs": [
    {
     "data": {
      "text/plain": [
       "Aayush    aayushsameershah@gmail.com\n",
       "Sameer           sameer123@GmAil.com\n",
       "dtype: object"
      ]
     },
     "execution_count": 145,
     "metadata": {},
     "output_type": "execute_result"
    }
   ],
   "source": [
    "ser[ser.str.contains('gmail', flags= re.IGNORECASE) == True]"
   ]
  },
  {
   "cell_type": "markdown",
   "metadata": {},
   "source": [
    "# "
   ]
  },
  {
   "cell_type": "markdown",
   "metadata": {},
   "source": [
    "## **str.findall()**"
   ]
  },
  {
   "cell_type": "code",
   "execution_count": 150,
   "metadata": {},
   "outputs": [
    {
     "data": {
      "text/plain": [
       "Aayush     [(aayushsameershah, gmail, com)]\n",
       "Sameer            [(sameer123, GmAil, com)]\n",
       "Shah        [(aayush+123+shah, yahoo, com)]\n",
       "unknown                                 NaN\n",
       "dtype: object"
      ]
     },
     "execution_count": 150,
     "metadata": {},
     "output_type": "execute_result"
    }
   ],
   "source": [
    "ser.str.findall(pattern, flags= re.IGNORECASE)"
   ]
  },
  {
   "cell_type": "markdown",
   "metadata": {},
   "source": [
    "# "
   ]
  },
  {
   "cell_type": "markdown",
   "metadata": {},
   "source": [
    "## **str.match()**\n",
    "Here it can be so useful as each row contains one message / text"
   ]
  },
  {
   "cell_type": "code",
   "execution_count": 151,
   "metadata": {},
   "outputs": [
    {
     "data": {
      "text/plain": [
       "Aayush     True\n",
       "Sameer     True\n",
       "Shah       True\n",
       "unknown     NaN\n",
       "dtype: object"
      ]
     },
     "execution_count": 151,
     "metadata": {},
     "output_type": "execute_result"
    }
   ],
   "source": [
    "ser.str.match(pattern, flags= re.IGNORECASE)"
   ]
  },
  {
   "cell_type": "markdown",
   "metadata": {},
   "source": [
    "# "
   ]
  },
  {
   "cell_type": "markdown",
   "metadata": {},
   "source": [
    "# That's it!\n",
    "Next up, we will start a new chapter."
   ]
  }
 ],
 "metadata": {
  "kernelspec": {
   "display_name": "Python 3",
   "language": "python",
   "name": "python3"
  },
  "language_info": {
   "codemirror_mode": {
    "name": "ipython",
    "version": 3
   },
   "file_extension": ".py",
   "mimetype": "text/x-python",
   "name": "python",
   "nbconvert_exporter": "python",
   "pygments_lexer": "ipython3",
   "version": "3.8.5"
  }
 },
 "nbformat": 4,
 "nbformat_minor": 4
}
