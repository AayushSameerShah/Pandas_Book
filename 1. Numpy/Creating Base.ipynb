{
 "cells": [
  {
   "cell_type": "markdown",
   "metadata": {},
   "source": [
    "# Hello, Aayush!"
   ]
  },
  {
   "cell_type": "markdown",
   "metadata": {},
   "source": [
    "*Great to see you here! I know you are progressing at very high speed and the speed is increasing terribaly higher!*\n",
    "___"
   ]
  },
  {
   "cell_type": "markdown",
   "metadata": {},
   "source": [
    "Ok, now -- I know this is the Notebook of Numpy, but still I wanted to give you some introdction before we really start. Here, I will provide an intuative explanation (unlike other book with 'Chutta chavaya' topics) with structurised folders."
   ]
  },
  {
   "cell_type": "markdown",
   "metadata": {},
   "source": [
    "### Let's go! "
   ]
  },
  {
   "cell_type": "markdown",
   "metadata": {},
   "source": [
    "# "
   ]
  },
  {
   "cell_type": "markdown",
   "metadata": {},
   "source": [
    "# "
   ]
  },
  {
   "cell_type": "code",
   "execution_count": 1,
   "metadata": {},
   "outputs": [],
   "source": [
    "import numpy as np"
   ]
  },
  {
   "cell_type": "markdown",
   "metadata": {},
   "source": [
    "# "
   ]
  },
  {
   "cell_type": "markdown",
   "metadata": {},
   "source": [
    "### → Trying to understand this:\n",
    "    \"If you omit later indices of a multidimentional array, the returned\n",
    "     object will be a lower dimentional ndarray consisting of all data\n",
    "     along with the higher dimentions\""
   ]
  },
  {
   "cell_type": "code",
   "execution_count": 2,
   "metadata": {},
   "outputs": [
    {
     "data": {
      "text/plain": [
       "array([[[ 0,  1,  2],\n",
       "        [ 3,  4,  5],\n",
       "        [ 6,  7,  8]],\n",
       "\n",
       "       [[ 9, 10, 11],\n",
       "        [12, 13, 14],\n",
       "        [15, 16, 17]]])"
      ]
     },
     "execution_count": 2,
     "metadata": {},
     "output_type": "execute_result"
    }
   ],
   "source": [
    "array = np.arange(18).reshape(2, 3, 3)\n",
    "array"
   ]
  },
  {
   "cell_type": "code",
   "execution_count": 3,
   "metadata": {},
   "outputs": [
    {
     "data": {
      "text/plain": [
       "array([[ 9, 10, 11],\n",
       "       [12, 13, 14],\n",
       "       [15, 16, 17]])"
      ]
     },
     "execution_count": 3,
     "metadata": {},
     "output_type": "execute_result"
    }
   ],
   "source": [
    "array[1]"
   ]
  },
  {
   "cell_type": "markdown",
   "metadata": {},
   "source": [
    "# "
   ]
  },
  {
   "cell_type": "markdown",
   "metadata": {},
   "source": [
    "### → Trying Booleanizm"
   ]
  },
  {
   "cell_type": "code",
   "execution_count": 12,
   "metadata": {},
   "outputs": [],
   "source": [
    "names = np.array([\"Aayush\", \"Sameer\", \"Heena\", \"Aayush\"])"
   ]
  },
  {
   "cell_type": "code",
   "execution_count": 26,
   "metadata": {},
   "outputs": [
    {
     "data": {
      "text/plain": [
       "array([[2, 1, 5, 4],\n",
       "       [5, 6, 3, 8],\n",
       "       [2, 4, 8, 3],\n",
       "       [1, 9, 7, 3]])"
      ]
     },
     "execution_count": 26,
     "metadata": {},
     "output_type": "execute_result"
    }
   ],
   "source": [
    "array = np.random.randint(0, 10, (4, 4))\n",
    "array"
   ]
  },
  {
   "cell_type": "code",
   "execution_count": 27,
   "metadata": {},
   "outputs": [
    {
     "data": {
      "text/plain": [
       "array([ True, False, False,  True])"
      ]
     },
     "execution_count": 27,
     "metadata": {},
     "output_type": "execute_result"
    }
   ],
   "source": [
    "names == \"Aayush\""
   ]
  },
  {
   "cell_type": "code",
   "execution_count": 28,
   "metadata": {},
   "outputs": [
    {
     "data": {
      "text/plain": [
       "array([[2, 1, 5, 4],\n",
       "       [1, 9, 7, 3]])"
      ]
     },
     "execution_count": 28,
     "metadata": {},
     "output_type": "execute_result"
    }
   ],
   "source": [
    "array[names == 'Aayush']"
   ]
  },
  {
   "cell_type": "markdown",
   "metadata": {},
   "source": [
    "    See? Only works with 1D because 1D is only rows. \n",
    "    --\n",
    "    To make it work with indexing of Columns instead of rows,\n",
    "    \n",
    "    Don't:\n",
    "        names = np.array([[\"Aayush\", \"Sameer\", \"Heena\", \"Aayush\"]])\n",
    "                         ↑\n",
    "            Don't make it 2D, it will work but need to make it multiple (for whole array shape)\n",
    "    \n",
    "    Don't:\n",
    "        array[names == 'Aayush']\n",
    "              ↑\n",
    "            This again will not work, as you are passing it in the place of ROWS, not columns\n",
    "            \n",
    "    Do this:\n",
    "        names = np.array([\"Aayush\", \"Sameer\", \"Heena\", \"Aayush\"])\n",
    "                         ↑\n",
    "                         Kept it simple 1D\n",
    "                         \n",
    "        array[:, names == 'Aayush']\n",
    "                 ↑\n",
    "                 Passed in the COLUMN place\n",
    "                 \n",
    "        (See, you need to have same shape of columns - Yes that should be manual (kind of))\n",
    "        \n",
    "## ↓ "
   ]
  },
  {
   "cell_type": "code",
   "execution_count": 30,
   "metadata": {},
   "outputs": [
    {
     "data": {
      "text/plain": [
       "array([[2, 4],\n",
       "       [5, 8],\n",
       "       [2, 3],\n",
       "       [1, 3]])"
      ]
     },
     "execution_count": 30,
     "metadata": {},
     "output_type": "execute_result"
    }
   ],
   "source": [
    "names = np.array([\"Aayush\", \"Sameer\", \"Heena\", \"Aayush\"])\n",
    "names == \"Aayush\"\n",
    "array[:, names == 'Aayush']"
   ]
  },
  {
   "cell_type": "markdown",
   "metadata": {},
   "source": [
    "# "
   ]
  },
  {
   "cell_type": "markdown",
   "metadata": {},
   "source": [
    "### → Answering the old doubt! how to get all columns while doing fancy indexing"
   ]
  },
  {
   "cell_type": "code",
   "execution_count": 31,
   "metadata": {},
   "outputs": [
    {
     "data": {
      "text/plain": [
       "array([[2, 1, 5, 4],\n",
       "       [5, 6, 3, 8],\n",
       "       [2, 4, 8, 3],\n",
       "       [1, 9, 7, 3]])"
      ]
     },
     "execution_count": 31,
     "metadata": {},
     "output_type": "execute_result"
    }
   ],
   "source": [
    "array"
   ]
  },
  {
   "cell_type": "code",
   "execution_count": 34,
   "metadata": {},
   "outputs": [
    {
     "data": {
      "text/plain": [
       "array([[2, 1, 5, 4],\n",
       "       [2, 4, 8, 3],\n",
       "       [1, 9, 7, 3]])"
      ]
     },
     "execution_count": 34,
     "metadata": {},
     "output_type": "execute_result"
    }
   ],
   "source": [
    "array[[0,2,3]]"
   ]
  },
  {
   "cell_type": "code",
   "execution_count": 35,
   "metadata": {},
   "outputs": [
    {
     "data": {
      "text/plain": [
       "array([2, 8, 9])"
      ]
     },
     "execution_count": 35,
     "metadata": {},
     "output_type": "execute_result"
    }
   ],
   "source": [
    "# Now I want, 0, 2 and 1 column...\n",
    "array[[0, 2, 3], [0, 2, 1]]"
   ]
  },
  {
   "cell_type": "code",
   "execution_count": 36,
   "metadata": {},
   "outputs": [
    {
     "ename": "SyntaxError",
     "evalue": "invalid syntax (<ipython-input-36-da6aedea210a>, line 2)",
     "output_type": "error",
     "traceback": [
      "\u001b[1;36m  File \u001b[1;32m\"<ipython-input-36-da6aedea210a>\"\u001b[1;36m, line \u001b[1;32m2\u001b[0m\n\u001b[1;33m    array[[0, 2, 3], [:, [0, 2, 1]]]\u001b[0m\n\u001b[1;37m                      ^\u001b[0m\n\u001b[1;31mSyntaxError\u001b[0m\u001b[1;31m:\u001b[0m invalid syntax\n"
     ]
    }
   ],
   "source": [
    "# Oops! Only one? What if I want all rows? of that columns\n",
    "array[[0, 2, 3], [:, [0, 2, 1]]]"
   ]
  },
  {
   "cell_type": "code",
   "execution_count": 40,
   "metadata": {},
   "outputs": [
    {
     "data": {
      "text/plain": [
       "array([[2, 5, 1],\n",
       "       [2, 8, 4],\n",
       "       [1, 7, 9]])"
      ]
     },
     "execution_count": 40,
     "metadata": {},
     "output_type": "execute_result"
    }
   ],
   "source": [
    "# But the thing above didn't sound working...\n",
    "array[[0, 2, 3]][:, [0, 2, 1]]"
   ]
  },
  {
   "cell_type": "markdown",
   "metadata": {},
   "source": [
    "#### Voila! "
   ]
  },
  {
   "cell_type": "markdown",
   "metadata": {},
   "source": [
    "# "
   ]
  },
  {
   "cell_type": "markdown",
   "metadata": {},
   "source": [
    "### → Trying `np.modf`"
   ]
  },
  {
   "cell_type": "code",
   "execution_count": 52,
   "metadata": {},
   "outputs": [
    {
     "data": {
      "text/plain": [
       "array([-1.50155815, -1.29069562, -0.98797892,  0.32961203, -0.25975134,\n",
       "        1.76592025,  0.77524182, -0.74189336, -0.10828855, -1.18323112])"
      ]
     },
     "execution_count": 52,
     "metadata": {},
     "output_type": "execute_result"
    }
   ],
   "source": [
    "array = np.random.randn(10)\n",
    "array"
   ]
  },
  {
   "cell_type": "code",
   "execution_count": 53,
   "metadata": {},
   "outputs": [
    {
     "data": {
      "text/plain": [
       "(array([-0.50155815, -0.29069562, -0.98797892,  0.32961203, -0.25975134,\n",
       "         0.76592025,  0.77524182, -0.74189336, -0.10828855, -0.18323112]),\n",
       " array([-1., -1., -0.,  0., -0.,  1.,  0., -0., -0., -1.]))"
      ]
     },
     "execution_count": 53,
     "metadata": {},
     "output_type": "execute_result"
    }
   ],
   "source": [
    "np.modf(array)"
   ]
  },
  {
   "cell_type": "markdown",
   "metadata": {},
   "source": [
    "`The fractional and integral parts are negative if the given number is\n",
    "negative.`\n"
   ]
  },
  {
   "cell_type": "markdown",
   "metadata": {},
   "source": [
    "# "
   ]
  },
  {
   "cell_type": "markdown",
   "metadata": {},
   "source": [
    "### → `np.sign`"
   ]
  },
  {
   "cell_type": "code",
   "execution_count": 63,
   "metadata": {},
   "outputs": [
    {
     "data": {
      "text/plain": [
       "array([-1,  0,  1])"
      ]
     },
     "execution_count": 63,
     "metadata": {},
     "output_type": "execute_result"
    }
   ],
   "source": [
    "np.sign([-133, 0, 99])"
   ]
  },
  {
   "cell_type": "markdown",
   "metadata": {},
   "source": [
    "# "
   ]
  },
  {
   "cell_type": "markdown",
   "metadata": {},
   "source": [
    "### → Saving *arrays* on disk!"
   ]
  },
  {
   "cell_type": "markdown",
   "metadata": {},
   "source": [
    "Saving `SINGLE` array"
   ]
  },
  {
   "cell_type": "code",
   "execution_count": 85,
   "metadata": {},
   "outputs": [
    {
     "data": {
      "text/plain": [
       "array([[0, 9, 5, 9, 1],\n",
       "       [3, 2, 6, 9, 6],\n",
       "       [8, 5, 5, 7, 3],\n",
       "       [6, 1, 3, 9, 1],\n",
       "       [0, 2, 1, 1, 1],\n",
       "       [3, 0, 7, 3, 3],\n",
       "       [3, 5, 1, 7, 3],\n",
       "       [7, 8, 5, 3, 9],\n",
       "       [0, 5, 1, 0, 0],\n",
       "       [3, 2, 9, 3, 5]])"
      ]
     },
     "execution_count": 85,
     "metadata": {},
     "output_type": "execute_result"
    }
   ],
   "source": [
    "array"
   ]
  },
  {
   "cell_type": "code",
   "execution_count": 86,
   "metadata": {},
   "outputs": [],
   "source": [
    "np.save(\"single_array\", array)"
   ]
  },
  {
   "cell_type": "markdown",
   "metadata": {},
   "source": [
    "File will end with `.npy extension` for single array... "
   ]
  },
  {
   "cell_type": "code",
   "execution_count": 87,
   "metadata": {},
   "outputs": [
    {
     "data": {
      "text/plain": [
       "array([[0, 9, 5, 9, 1],\n",
       "       [3, 2, 6, 9, 6],\n",
       "       [8, 5, 5, 7, 3],\n",
       "       [6, 1, 3, 9, 1],\n",
       "       [0, 2, 1, 1, 1],\n",
       "       [3, 0, 7, 3, 3],\n",
       "       [3, 5, 1, 7, 3],\n",
       "       [7, 8, 5, 3, 9],\n",
       "       [0, 5, 1, 0, 0],\n",
       "       [3, 2, 9, 3, 5]])"
      ]
     },
     "execution_count": 87,
     "metadata": {},
     "output_type": "execute_result"
    }
   ],
   "source": [
    "np.load(\"single_array.npy\")"
   ]
  },
  {
   "cell_type": "markdown",
   "metadata": {},
   "source": [
    "# "
   ]
  },
  {
   "cell_type": "markdown",
   "metadata": {},
   "source": [
    "Saving `MULTIPLE ARRAYS` in single file"
   ]
  },
  {
   "cell_type": "code",
   "execution_count": 88,
   "metadata": {},
   "outputs": [],
   "source": [
    "np.savez(\"multiple_arrays\", array_1= array, array_2= array ** 2, array_3= array * 3)"
   ]
  },
  {
   "cell_type": "markdown",
   "metadata": {},
   "source": [
    "File name ends with `.npz extension` "
   ]
  },
  {
   "cell_type": "code",
   "execution_count": 89,
   "metadata": {},
   "outputs": [
    {
     "data": {
      "text/plain": [
       "<numpy.lib.npyio.NpzFile at 0x28ff995a490>"
      ]
     },
     "execution_count": 89,
     "metadata": {},
     "output_type": "execute_result"
    }
   ],
   "source": [
    "# The multiple arrays are lazily implemented \n",
    "np.load(\"multiple_arrays.npz\")"
   ]
  },
  {
   "cell_type": "code",
   "execution_count": 90,
   "metadata": {},
   "outputs": [],
   "source": [
    "arrays = np.load(\"multiple_arrays.npz\")"
   ]
  },
  {
   "cell_type": "code",
   "execution_count": 92,
   "metadata": {},
   "outputs": [
    {
     "data": {
      "text/plain": [
       "array([[0, 9, 5, 9, 1],\n",
       "       [3, 2, 6, 9, 6],\n",
       "       [8, 5, 5, 7, 3],\n",
       "       [6, 1, 3, 9, 1],\n",
       "       [0, 2, 1, 1, 1],\n",
       "       [3, 0, 7, 3, 3],\n",
       "       [3, 5, 1, 7, 3],\n",
       "       [7, 8, 5, 3, 9],\n",
       "       [0, 5, 1, 0, 0],\n",
       "       [3, 2, 9, 3, 5]])"
      ]
     },
     "execution_count": 92,
     "metadata": {},
     "output_type": "execute_result"
    }
   ],
   "source": [
    "arrays['array_1']"
   ]
  },
  {
   "cell_type": "code",
   "execution_count": 93,
   "metadata": {},
   "outputs": [
    {
     "data": {
      "text/plain": [
       "array([[ 0, 81, 25, 81,  1],\n",
       "       [ 9,  4, 36, 81, 36],\n",
       "       [64, 25, 25, 49,  9],\n",
       "       [36,  1,  9, 81,  1],\n",
       "       [ 0,  4,  1,  1,  1],\n",
       "       [ 9,  0, 49,  9,  9],\n",
       "       [ 9, 25,  1, 49,  9],\n",
       "       [49, 64, 25,  9, 81],\n",
       "       [ 0, 25,  1,  0,  0],\n",
       "       [ 9,  4, 81,  9, 25]])"
      ]
     },
     "execution_count": 93,
     "metadata": {},
     "output_type": "execute_result"
    }
   ],
   "source": [
    "arrays['array_2']"
   ]
  },
  {
   "cell_type": "code",
   "execution_count": 94,
   "metadata": {},
   "outputs": [
    {
     "data": {
      "text/plain": [
       "array([[ 0, 27, 15, 27,  3],\n",
       "       [ 9,  6, 18, 27, 18],\n",
       "       [24, 15, 15, 21,  9],\n",
       "       [18,  3,  9, 27,  3],\n",
       "       [ 0,  6,  3,  3,  3],\n",
       "       [ 9,  0, 21,  9,  9],\n",
       "       [ 9, 15,  3, 21,  9],\n",
       "       [21, 24, 15,  9, 27],\n",
       "       [ 0, 15,  3,  0,  0],\n",
       "       [ 9,  6, 27,  9, 15]])"
      ]
     },
     "execution_count": 94,
     "metadata": {},
     "output_type": "execute_result"
    }
   ],
   "source": [
    "arrays['array_3']"
   ]
  },
  {
   "cell_type": "markdown",
   "metadata": {},
   "source": [
    "And `compress` the arrays like this... "
   ]
  },
  {
   "cell_type": "code",
   "execution_count": 97,
   "metadata": {},
   "outputs": [],
   "source": [
    "np.savez_compressed(\"multiple_arrays\", array_1= array, array_2= array ** 2, array_3= array * 3)"
   ]
  },
  {
   "cell_type": "markdown",
   "metadata": {},
   "source": [
    "# "
   ]
  },
  {
   "cell_type": "markdown",
   "metadata": {},
   "source": [
    "### → Randomized `range(0, to 10)` !"
   ]
  },
  {
   "cell_type": "code",
   "execution_count": 103,
   "metadata": {},
   "outputs": [
    {
     "data": {
      "text/plain": [
       "array([9, 4, 1, 3, 7, 0, 8, 2, 6, 5])"
      ]
     },
     "execution_count": 103,
     "metadata": {},
     "output_type": "execute_result"
    }
   ],
   "source": [
    "np.random.permutation(10)"
   ]
  },
  {
   "cell_type": "markdown",
   "metadata": {},
   "source": [
    "# "
   ]
  },
  {
   "cell_type": "markdown",
   "metadata": {},
   "source": [
    "### → `np.random.shuffle()`"
   ]
  },
  {
   "cell_type": "code",
   "execution_count": 107,
   "metadata": {},
   "outputs": [],
   "source": [
    "array = np.arange(20)"
   ]
  },
  {
   "cell_type": "code",
   "execution_count": 108,
   "metadata": {},
   "outputs": [],
   "source": [
    "np.random.shuffle(array)"
   ]
  },
  {
   "cell_type": "code",
   "execution_count": 109,
   "metadata": {},
   "outputs": [
    {
     "data": {
      "text/plain": [
       "array([17, 13,  7, 18, 19,  6, 12, 11,  9,  2,  8,  3,  5,  0, 16, 14,  1,\n",
       "       10, 15,  4])"
      ]
     },
     "execution_count": 109,
     "metadata": {},
     "output_type": "execute_result"
    }
   ],
   "source": [
    "array"
   ]
  },
  {
   "cell_type": "markdown",
   "metadata": {},
   "source": [
    "Seems like, `shuffle` is an alternative to `permutation` when the range is given... but permutation will fail in other types, you know..."
   ]
  },
  {
   "cell_type": "markdown",
   "metadata": {},
   "source": [
    "# "
   ]
  },
  {
   "cell_type": "markdown",
   "metadata": {},
   "source": [
    "### → Start walking alternatives"
   ]
  },
  {
   "cell_type": "code",
   "execution_count": 110,
   "metadata": {},
   "outputs": [],
   "source": [
    "import matplotlib.pyplot as plt"
   ]
  },
  {
   "cell_type": "code",
   "execution_count": 163,
   "metadata": {},
   "outputs": [
    {
     "data": {
      "text/plain": [
       "[<matplotlib.lines.Line2D at 0x28ffb7faa00>]"
      ]
     },
     "execution_count": 163,
     "metadata": {},
     "output_type": "execute_result"
    },
    {
     "data": {
      "image/png": "[encoded data removed]",
      "text/plain": [
       "<Figure size 432x288 with 1 Axes>"
      ]
     },
     "metadata": {
      "needs_background": "light"
     },
     "output_type": "display_data"
    }
   ],
   "source": [
    "steps = 100\n",
    "position = 0\n",
    "walk = [position]\n",
    "\n",
    "for _ in range(steps):\n",
    "    step = 1 if np.random.randint(0, 2) else -1\n",
    "    position += step\n",
    "    walk.append(position)\n",
    "\n",
    "plt.plot(walk)"
   ]
  },
  {
   "cell_type": "markdown",
   "metadata": {},
   "source": [
    "The same can be done in 2 ways...  \n",
    "`Way 1`"
   ]
  },
  {
   "cell_type": "code",
   "execution_count": 171,
   "metadata": {},
   "outputs": [
    {
     "data": {
      "text/plain": [
       "[<matplotlib.lines.Line2D at 0x28ffc9e11f0>]"
      ]
     },
     "execution_count": 171,
     "metadata": {},
     "output_type": "execute_result"
    },
    {
     "data": {
      "image/png": "[encoded data removed]",
      "text/plain": [
       "<Figure size 432x288 with 1 Axes>"
      ]
     },
     "metadata": {
      "needs_background": "light"
     },
     "output_type": "display_data"
    }
   ],
   "source": [
    "walk = np.random.choice([-1, 1], 100).cumsum()\n",
    "plt.plot(walk)"
   ]
  },
  {
   "cell_type": "markdown",
   "metadata": {},
   "source": [
    "`Way 2`"
   ]
  },
  {
   "cell_type": "code",
   "execution_count": 176,
   "metadata": {},
   "outputs": [
    {
     "data": {
      "text/plain": [
       "[<matplotlib.lines.Line2D at 0x28ffcba95e0>]"
      ]
     },
     "execution_count": 176,
     "metadata": {},
     "output_type": "execute_result"
    },
    {
     "data": {
      "image/png": "[encoded data removed]",
      "text/plain": [
       "<Figure size 432x288 with 1 Axes>"
      ]
     },
     "metadata": {
      "needs_background": "light"
     },
     "output_type": "display_data"
    }
   ],
   "source": [
    "walk = np.random.randint(0, 2, 100)\n",
    "walk = np.where(walk > 0, 1, -1).cumsum()\n",
    "plt.plot(walk)"
   ]
  },
  {
   "cell_type": "markdown",
   "metadata": {},
   "source": [
    "Cool!"
   ]
  },
  {
   "cell_type": "markdown",
   "metadata": {},
   "source": [
    "# "
   ]
  },
  {
   "cell_type": "markdown",
   "metadata": {},
   "source": [
    "Done! The chapter 4 in the book finished and the introduction to NumPy ended in this single notebook... Now, we will start focus on our hero - Pandas.\n",
    "\n",
    "From the next folder - will dive deep to the pandas and start wrangling the data in it.\n",
    "\n",
    "**See you soon!**"
   ]
  }
 ],
 "metadata": {
  "kernelspec": {
   "display_name": "Python 3",
   "language": "python",
   "name": "python3"
  },
  "language_info": {
   "codemirror_mode": {
    "name": "ipython",
    "version": 3
   },
   "file_extension": ".py",
   "mimetype": "text/x-python",
   "name": "python",
   "nbconvert_exporter": "python",
   "pygments_lexer": "ipython3",
   "version": "3.8.5"
  }
 },
 "nbformat": 4,
 "nbformat_minor": 4
}
